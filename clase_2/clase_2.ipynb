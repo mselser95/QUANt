{
 "cells": [
  {
   "cell_type": "code",
   "execution_count": 1,
   "metadata": {},
   "outputs": [],
   "source": [
    "import requests\n",
    "import json"
   ]
  },
  {
   "cell_type": "code",
   "execution_count": 2,
   "metadata": {},
   "outputs": [
    {
     "name": "stdout",
     "output_type": "stream",
     "text": [
      "{'lastUpdateId': 277903293, 'bids': [['1814.77000000', '0.33050000'], ['1814.76000000', '2.93570000'], ['1813.69000000', '0.00620000'], ['1812.95000000', '0.01820000'], ['1810.86000000', '0.01400000']], 'asks': [['1842.06000000', '0.29750000'], ['1842.07000000', '1.55380000'], ['1842.09000000', '0.57080000'], ['1843.94000000', '0.00550000'], ['1845.65000000', '0.01810000']]}\n"
     ]
    }
   ],
   "source": [
    "binance_api_url = \"https://api.binance.us\"\n",
    "\n",
    "uri = \"/api/v3/depth\"\n",
    "\n",
    "response = requests.get(binance_api_url + uri, {\n",
    "    \"symbol\": \"ETHUSDC\",\n",
    "    \"limit\": 5\n",
    "})\n",
    "\n",
    "if response.status_code == 200:\n",
    "    data = response.json()\n",
    "    print(data)"
   ]
  },
  {
   "cell_type": "code",
   "execution_count": 4,
   "metadata": {},
   "outputs": [
    {
     "name": "stdout",
     "output_type": "stream",
     "text": [
      "{'mins': 5, 'price': '1820.61474945'}\n"
     ]
    }
   ],
   "source": [
    "uri = \"/api/v3/avgPrice\"\n",
    "\n",
    "response = requests.get(binance_api_url + uri, {\n",
    "    \"symbol\": \"ETHUSDC\",\n",
    "})\n",
    "\n",
    "if response.status_code == 200:\n",
    "    data = response.json()\n",
    "    print(data)"
   ]
  },
  {
   "cell_type": "code",
   "execution_count": 7,
   "metadata": {},
   "outputs": [
    {
     "name": "stdout",
     "output_type": "stream",
     "text": [
      "c8db56825ae71d6d79447849e617115f4a920fa2acdcab2b053c4b2838bd6b71\n"
     ]
    }
   ],
   "source": [
    "import requests\n",
    "import time\n",
    "import hmac\n",
    "import hashlib\n",
    "\n",
    "\n",
    "# Set up authentication\n",
    "API_KEY=\"vmPUZE6mv9SD5VNHk4HlWFsOr6aKE2zvsw0MuIgwCIPy6utIco14y7Ju91duEh8A\"\n",
    "PRIVATE_KEY=\"NhqPtmdSJYdKjVHjA7PZj4Mge3R5YNiP1e3UZjInClVN65XAbvqqM6A7H5fATj0j\"\n",
    "\n",
    "\n",
    "\n",
    "# Set up the request parameters\n",
    "params = {\n",
    "    'symbol':       'LTCBTC',\n",
    "    'side':         'BUY',\n",
    "    'type':         'LIMIT',\n",
    "    'timeInForce':  'GTC',\n",
    "    'quantity':     '1',\n",
    "    'price':        '0.1',\n",
    "    'recvWindow':   '5000',\n",
    "    'timestamp':    '1499827319559'\n",
    "}\n",
    "\n",
    "# Timestamp the request, for non example requests\n",
    "# timestamp = int(time.time() * 1000) # UNIX timestamp in milliseconds\n",
    "# params['timestamp'] = timestamp\n",
    "\n",
    "# Sign the request\n",
    "payload = '&'.join([f'{param}={value}' for param, value in params.items()])\n",
    "signature = hmac.new(\n",
    "    bytes(PRIVATE_KEY, 'latin-1'), \n",
    "    msg=bytes(payload, 'latin-1'), \n",
    "    digestmod=hashlib.sha256\n",
    ").hexdigest()\n",
    "\n",
    "print(signature)\n",
    "\n",
    "\n",
    "params['signature'] = signature\n",
    "\n",
    "# Send the request\n",
    "headers = {\n",
    "    'X-MBX-APIKEY': API_KEY,\n",
    "}\n",
    "\n",
    "#response = requests.post(\n",
    "#    'https://api.binance.com/api/v3/order',\n",
    "#    headers=headers,\n",
    "#    data=params,\n",
    "#)\n",
    "#print(response.json())"
   ]
  },
  {
   "cell_type": "code",
   "execution_count": 8,
   "metadata": {},
   "outputs": [
    {
     "name": "stdout",
     "output_type": "stream",
     "text": [
      "Collecting ccxt\n",
      "  Downloading ccxt-4.1.36-py2.py3-none-any.whl (3.9 MB)\n",
      "\u001b[2K     \u001b[90m━━━━━━━━━━━━━━━━━━━━━━━━━━━━━━━━━━━━━━━━\u001b[0m \u001b[32m3.9/3.9 MB\u001b[0m \u001b[31m13.0 MB/s\u001b[0m eta \u001b[36m0:00:00\u001b[0ma \u001b[36m0:00:01\u001b[0mm\n",
      "\u001b[?25hCollecting aiodns>=1.1.1\n",
      "  Downloading aiodns-3.1.1-py3-none-any.whl (5.4 kB)\n",
      "Requirement already satisfied: yarl>=1.7.2 in /home/mselser/dev/MRM/Amalgama/env/lib/python3.9/site-packages (from ccxt) (1.9.2)\n",
      "Requirement already satisfied: certifi>=2018.1.18 in /home/mselser/dev/MRM/Amalgama/env/lib/python3.9/site-packages (from ccxt) (2023.7.22)\n",
      "Requirement already satisfied: aiohttp>=3.8 in /home/mselser/dev/MRM/Amalgama/env/lib/python3.9/site-packages (from ccxt) (3.8.6)\n",
      "Requirement already satisfied: requests>=2.18.4 in /home/mselser/dev/MRM/Amalgama/env/lib/python3.9/site-packages (from ccxt) (2.31.0)\n",
      "Requirement already satisfied: setuptools>=60.9.0 in /home/mselser/dev/MRM/Amalgama/env/lib/python3.9/site-packages (from ccxt) (68.0.0)\n",
      "Requirement already satisfied: cryptography>=2.6.1 in /home/mselser/dev/MRM/Amalgama/env/lib/python3.9/site-packages (from ccxt) (41.0.3)\n",
      "Collecting pycares>=4.0.0\n",
      "  Downloading pycares-4.4.0-cp39-cp39-manylinux_2_17_x86_64.manylinux2014_x86_64.whl (288 kB)\n",
      "\u001b[2K     \u001b[90m━━━━━━━━━━━━━━━━━━━━━━━━━━━━━━━━━━━━━━\u001b[0m \u001b[32m288.7/288.7 KB\u001b[0m \u001b[31m31.0 MB/s\u001b[0m eta \u001b[36m0:00:00\u001b[0m\n",
      "\u001b[?25hRequirement already satisfied: attrs>=17.3.0 in /home/mselser/dev/MRM/Amalgama/env/lib/python3.9/site-packages (from aiohttp>=3.8->ccxt) (23.1.0)\n",
      "Requirement already satisfied: async-timeout<5.0,>=4.0.0a3 in /home/mselser/dev/MRM/Amalgama/env/lib/python3.9/site-packages (from aiohttp>=3.8->ccxt) (4.0.3)\n",
      "Requirement already satisfied: charset-normalizer<4.0,>=2.0 in /home/mselser/dev/MRM/Amalgama/env/lib/python3.9/site-packages (from aiohttp>=3.8->ccxt) (3.2.0)\n",
      "Requirement already satisfied: frozenlist>=1.1.1 in /home/mselser/dev/MRM/Amalgama/env/lib/python3.9/site-packages (from aiohttp>=3.8->ccxt) (1.4.0)\n",
      "Requirement already satisfied: aiosignal>=1.1.2 in /home/mselser/dev/MRM/Amalgama/env/lib/python3.9/site-packages (from aiohttp>=3.8->ccxt) (1.3.1)\n",
      "Requirement already satisfied: multidict<7.0,>=4.5 in /home/mselser/dev/MRM/Amalgama/env/lib/python3.9/site-packages (from aiohttp>=3.8->ccxt) (6.0.4)\n",
      "Requirement already satisfied: cffi>=1.12 in /home/mselser/dev/MRM/Amalgama/env/lib/python3.9/site-packages (from cryptography>=2.6.1->ccxt) (1.15.1)\n",
      "Requirement already satisfied: urllib3<3,>=1.21.1 in /home/mselser/dev/MRM/Amalgama/env/lib/python3.9/site-packages (from requests>=2.18.4->ccxt) (1.26.16)\n",
      "Requirement already satisfied: idna<4,>=2.5 in /home/mselser/dev/MRM/Amalgama/env/lib/python3.9/site-packages (from requests>=2.18.4->ccxt) (3.4)\n",
      "Requirement already satisfied: pycparser in /home/mselser/dev/MRM/Amalgama/env/lib/python3.9/site-packages (from cffi>=1.12->cryptography>=2.6.1->ccxt) (2.21)\n",
      "Installing collected packages: pycares, aiodns, ccxt\n",
      "Successfully installed aiodns-3.1.1 ccxt-4.1.36 pycares-4.4.0\n",
      "\u001b[33mWARNING: You are using pip version 22.0.4; however, version 23.3.1 is available.\n",
      "You should consider upgrading via the '/home/mselser/dev/MRM/Amalgama/env/bin/python -m pip install --upgrade pip' command.\u001b[0m\u001b[33m\n",
      "\u001b[0mNote: you may need to restart the kernel to use updated packages.\n"
     ]
    }
   ],
   "source": [
    "%pip install ccxt"
   ]
  },
  {
   "cell_type": "code",
   "execution_count": 11,
   "metadata": {},
   "outputs": [
    {
     "data": {
      "text/plain": [
       "{'symbol': 'ETH/USDC',\n",
       " 'timestamp': 1698936175689,\n",
       " 'datetime': '2023-11-02T14:42:55.689Z',\n",
       " 'high': 1875.0,\n",
       " 'low': 1782.01,\n",
       " 'bid': 1807.84,\n",
       " 'bidVolume': 0.0399,\n",
       " 'ask': 1835.03,\n",
       " 'askVolume': 0.234,\n",
       " 'vwap': 1849.63342646,\n",
       " 'open': 1795.03,\n",
       " 'close': 1809.89,\n",
       " 'last': 1809.89,\n",
       " 'previousClose': 1823.07,\n",
       " 'change': 14.86,\n",
       " 'percentage': 0.828,\n",
       " 'average': 1802.46,\n",
       " 'baseVolume': 16.9741,\n",
       " 'quoteVolume': 31395.862744,\n",
       " 'info': {'symbol': 'ETHUSDC',\n",
       "  'priceChange': '14.86000000',\n",
       "  'priceChangePercent': '0.828',\n",
       "  'weightedAvgPrice': '1849.63342646',\n",
       "  'prevClosePrice': '1823.07000000',\n",
       "  'lastPrice': '1809.89000000',\n",
       "  'lastQty': '0.07490000',\n",
       "  'bidPrice': '1807.84000000',\n",
       "  'bidQty': '0.03990000',\n",
       "  'askPrice': '1835.03000000',\n",
       "  'askQty': '0.23400000',\n",
       "  'openPrice': '1795.03000000',\n",
       "  'highPrice': '1875.00000000',\n",
       "  'lowPrice': '1782.01000000',\n",
       "  'volume': '16.97410000',\n",
       "  'quoteVolume': '31395.86274400',\n",
       "  'openTime': '1698849775689',\n",
       "  'closeTime': '1698936175689',\n",
       "  'firstId': '892213',\n",
       "  'lastId': '892368',\n",
       "  'count': '156'}}"
      ]
     },
     "execution_count": 11,
     "metadata": {},
     "output_type": "execute_result"
    }
   ],
   "source": [
    "import ccxt\n",
    "\n",
    "binance_exchange = ccxt.binanceus()"
   ]
  },
  {
   "cell_type": "code",
   "execution_count": 12,
   "metadata": {},
   "outputs": [
    {
     "data": {
      "text/plain": [
       "{'symbol': 'ETH/USDC',\n",
       " 'timestamp': 1698936191024,\n",
       " 'datetime': '2023-11-02T14:43:11.024Z',\n",
       " 'high': 1875.0,\n",
       " 'low': 1782.01,\n",
       " 'bid': 1807.87,\n",
       " 'bidVolume': 0.0402,\n",
       " 'ask': 1834.89,\n",
       " 'askVolume': 0.3173,\n",
       " 'vwap': 1849.63342646,\n",
       " 'open': 1795.03,\n",
       " 'close': 1809.89,\n",
       " 'last': 1809.89,\n",
       " 'previousClose': 1823.07,\n",
       " 'change': 14.86,\n",
       " 'percentage': 0.828,\n",
       " 'average': 1802.46,\n",
       " 'baseVolume': 16.9741,\n",
       " 'quoteVolume': 31395.862744,\n",
       " 'info': {'symbol': 'ETHUSDC',\n",
       "  'priceChange': '14.86000000',\n",
       "  'priceChangePercent': '0.828',\n",
       "  'weightedAvgPrice': '1849.63342646',\n",
       "  'prevClosePrice': '1823.07000000',\n",
       "  'lastPrice': '1809.89000000',\n",
       "  'lastQty': '0.07490000',\n",
       "  'bidPrice': '1807.87000000',\n",
       "  'bidQty': '0.04020000',\n",
       "  'askPrice': '1834.89000000',\n",
       "  'askQty': '0.31730000',\n",
       "  'openPrice': '1795.03000000',\n",
       "  'highPrice': '1875.00000000',\n",
       "  'lowPrice': '1782.01000000',\n",
       "  'volume': '16.97410000',\n",
       "  'quoteVolume': '31395.86274400',\n",
       "  'openTime': '1698849791024',\n",
       "  'closeTime': '1698936191024',\n",
       "  'firstId': '892213',\n",
       "  'lastId': '892368',\n",
       "  'count': '156'}}"
      ]
     },
     "execution_count": 12,
     "metadata": {},
     "output_type": "execute_result"
    }
   ],
   "source": [
    "binance_exchange.fetch_ticker(\"ETH/USDC\")"
   ]
  },
  {
   "cell_type": "code",
   "execution_count": 14,
   "metadata": {},
   "outputs": [
    {
     "data": {
      "text/plain": [
       "{'symbol': 'ETH/USDC',\n",
       " 'bids': [[1807.9, 0.0405],\n",
       "  [1807.89, 0.3473],\n",
       "  [1807.88, 2.9283],\n",
       "  [1807.39, 0.0056],\n",
       "  [1806.59, 0.015]],\n",
       " 'asks': [[1834.65, 0.3233],\n",
       "  [1834.66, 0.3069],\n",
       "  [1836.5, 0.7859],\n",
       "  [1836.51, 0.0181],\n",
       "  [1843.94, 0.0055]],\n",
       " 'timestamp': None,\n",
       " 'datetime': None,\n",
       " 'nonce': 277907121}"
      ]
     },
     "execution_count": 14,
     "metadata": {},
     "output_type": "execute_result"
    }
   ],
   "source": [
    "binance_exchange.fetch_order_book(\"ETH/USDC\", 5)"
   ]
  }
 ],
 "metadata": {
  "kernelspec": {
   "display_name": "env",
   "language": "python",
   "name": "python3"
  },
  "language_info": {
   "codemirror_mode": {
    "name": "ipython",
    "version": 3
   },
   "file_extension": ".py",
   "mimetype": "text/x-python",
   "name": "python",
   "nbconvert_exporter": "python",
   "pygments_lexer": "ipython3",
   "version": "3.9.13"
  }
 },
 "nbformat": 4,
 "nbformat_minor": 2
}
