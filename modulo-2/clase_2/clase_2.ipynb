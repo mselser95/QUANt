{
 "cells": [
  {
   "cell_type": "code",
   "execution_count": 2,
   "metadata": {},
   "outputs": [],
   "source": [
    "import requests\n",
    "import json"
   ]
  },
  {
   "cell_type": "code",
   "execution_count": 3,
   "metadata": {},
   "outputs": [
    {
     "name": "stdout",
     "output_type": "stream",
     "text": [
      "{'lastUpdateId': 305535420, 'bids': [['3535.76000000', '0.02560000'], ['3535.75000000', '17.58490000'], ['3535.73000000', '0.00920000'], ['3530.41000000', '0.00920000'], ['3527.51000000', '0.00930000']], 'asks': [['3566.55000000', '1.18220000'], ['3566.58000000', '5.54160000'], ['3574.70000000', '0.00910000'], ['3577.65000000', '0.02070000'], ['3580.00000000', '0.21000000']]}\n"
     ]
    }
   ],
   "source": [
    "binance_api_url = \"https://api.binance.us\"\n",
    "\n",
    "uri = \"/api/v3/depth\"\n",
    "\n",
    "response = requests.get(binance_api_url + uri, {\n",
    "    \"symbol\": \"ETHUSDC\",\n",
    "    \"limit\": 5\n",
    "})\n",
    "\n",
    "if response.status_code == 200:\n",
    "    data = response.json()\n",
    "    print(data)"
   ]
  },
  {
   "cell_type": "code",
   "execution_count": 4,
   "metadata": {},
   "outputs": [
    {
     "name": "stdout",
     "output_type": "stream",
     "text": [
      "{'mins': 5, 'price': '3546.16000000'}\n"
     ]
    }
   ],
   "source": [
    "uri = \"/api/v3/avgPrice\"\n",
    "\n",
    "response = requests.get(binance_api_url + uri, {\n",
    "    \"symbol\": \"ETHUSDC\",\n",
    "})\n",
    "\n",
    "if response.status_code == 200:\n",
    "    data = response.json()\n",
    "    print(data)"
   ]
  },
  {
   "cell_type": "code",
   "execution_count": 5,
   "metadata": {},
   "outputs": [
    {
     "name": "stdout",
     "output_type": "stream",
     "text": [
      "c8db56825ae71d6d79447849e617115f4a920fa2acdcab2b053c4b2838bd6b71\n"
     ]
    }
   ],
   "source": [
    "import requests\n",
    "import time\n",
    "import hmac\n",
    "import hashlib\n",
    "\n",
    "\n",
    "# Set up authentication\n",
    "API_KEY=\"vmPUZE6mv9SD5VNHk4HlWFsOr6aKE2zvsw0MuIgwCIPy6utIco14y7Ju91duEh8A\"\n",
    "PRIVATE_KEY=\"NhqPtmdSJYdKjVHjA7PZj4Mge3R5YNiP1e3UZjInClVN65XAbvqqM6A7H5fATj0j\"\n",
    "\n",
    "\n",
    "\n",
    "# Set up the request parameters\n",
    "params = {\n",
    "    'symbol':       'LTCBTC',\n",
    "    'side':         'BUY',\n",
    "    'type':         'LIMIT',\n",
    "    'timeInForce':  'GTC',\n",
    "    'quantity':     '1',\n",
    "    'price':        '0.1',\n",
    "    'recvWindow':   '5000',\n",
    "    'timestamp':    '1499827319559'\n",
    "}\n",
    "\n",
    "# Timestamp the request, for non example requests\n",
    "# timestamp = int(time.time() * 1000) # UNIX timestamp in milliseconds\n",
    "# params['timestamp'] = timestamp\n",
    "\n",
    "# Sign the request\n",
    "payload = '&'.join([f'{param}={value}' for param, value in params.items()])\n",
    "signature = hmac.new(\n",
    "    bytes(PRIVATE_KEY, 'latin-1'), \n",
    "    msg=bytes(payload, 'latin-1'), \n",
    "    digestmod=hashlib.sha256\n",
    ").hexdigest()\n",
    "\n",
    "print(signature)\n",
    "\n",
    "\n",
    "params['signature'] = signature\n",
    "\n",
    "# Send the request\n",
    "headers = {\n",
    "    'X-MBX-APIKEY': API_KEY,\n",
    "}\n",
    "\n",
    "#response = requests.post(\n",
    "#    'https://api.binance.com/api/v3/order',\n",
    "#    headers=headers,\n",
    "#    data=params,\n",
    "#)\n",
    "#print(response.json())"
   ]
  },
  {
   "cell_type": "code",
   "execution_count": 6,
   "metadata": {},
   "outputs": [
    {
     "name": "stdout",
     "output_type": "stream",
     "text": [
      "Collecting ccxt\n",
      "  Downloading ccxt-4.4.34-py2.py3-none-any.whl (5.5 MB)\n",
      "\u001b[2K     \u001b[90m━━━━━━━━━━━━━━━━━━━━━━━━━━━━━━━━━━━━━━━━\u001b[0m \u001b[32m5.5/5.5 MB\u001b[0m \u001b[31m5.2 MB/s\u001b[0m eta \u001b[36m0:00:00\u001b[0m00:01\u001b[0m00:01\u001b[0m0m\n",
      "\u001b[?25hRequirement already satisfied: yarl>=1.7.2 in /home/mselser/dev/personal/MSQT/env/lib/python3.10/site-packages (from ccxt) (1.18.0)\n",
      "Requirement already satisfied: requests>=2.18.4 in /home/mselser/dev/personal/MSQT/env/lib/python3.10/site-packages (from ccxt) (2.32.2)\n",
      "Collecting cryptography>=2.6.1\n",
      "  Downloading cryptography-43.0.3-cp39-abi3-manylinux_2_28_x86_64.whl (4.0 MB)\n",
      "\u001b[2K     \u001b[90m━━━━━━━━━━━━━━━━━━━━━━━━━━━━━━━━━━━━━━━━\u001b[0m \u001b[32m4.0/4.0 MB\u001b[0m \u001b[31m1.4 MB/s\u001b[0m eta \u001b[36m0:00:00\u001b[0ma \u001b[36m0:00:01\u001b[0mm\n",
      "\u001b[?25hRequirement already satisfied: certifi>=2018.1.18 in /home/mselser/dev/personal/MSQT/env/lib/python3.10/site-packages (from ccxt) (2024.2.2)\n",
      "Collecting aiohttp<=3.10.11\n",
      "  Downloading aiohttp-3.10.11-cp310-cp310-manylinux_2_17_x86_64.manylinux2014_x86_64.whl (1.2 MB)\n",
      "\u001b[2K     \u001b[90m━━━━━━━━━━━━━━━━━━━━━━━━━━━━━━━━━━━━━━━━\u001b[0m \u001b[32m1.2/1.2 MB\u001b[0m \u001b[31m2.1 MB/s\u001b[0m eta \u001b[36m0:00:00\u001b[0m00:01\u001b[0m00:01\u001b[0m\n",
      "\u001b[?25hRequirement already satisfied: typing-extensions>=4.4.0 in /home/mselser/dev/personal/MSQT/env/lib/python3.10/site-packages (from ccxt) (4.12.2)\n",
      "Collecting aiodns>=1.1.1\n",
      "  Downloading aiodns-3.2.0-py3-none-any.whl (5.7 kB)\n",
      "Collecting setuptools>=60.9.0\n",
      "  Downloading setuptools-75.6.0-py3-none-any.whl (1.2 MB)\n",
      "\u001b[2K     \u001b[90m━━━━━━━━━━━━━━━━━━━━━━━━━━━━━━━━━━━━━━━━\u001b[0m \u001b[32m1.2/1.2 MB\u001b[0m \u001b[31m3.8 MB/s\u001b[0m eta \u001b[36m0:00:00\u001b[0m00:01\u001b[0m00:01\u001b[0m\n",
      "\u001b[?25hCollecting pycares>=4.0.0\n",
      "  Downloading pycares-4.5.0-cp310-cp310-manylinux_2_17_x86_64.manylinux2014_x86_64.whl (288 kB)\n",
      "\u001b[2K     \u001b[90m━━━━━━━━━━━━━━━━━━━━━━━━━━━━━━━━━━━━━\u001b[0m \u001b[32m288.6/288.6 KB\u001b[0m \u001b[31m117.7 kB/s\u001b[0m eta \u001b[36m0:00:00\u001b[0m00:01\u001b[0m00:01\u001b[0m\n",
      "\u001b[?25hRequirement already satisfied: frozenlist>=1.1.1 in /home/mselser/dev/personal/MSQT/env/lib/python3.10/site-packages (from aiohttp<=3.10.11->ccxt) (1.5.0)\n",
      "Requirement already satisfied: aiohappyeyeballs>=2.3.0 in /home/mselser/dev/personal/MSQT/env/lib/python3.10/site-packages (from aiohttp<=3.10.11->ccxt) (2.4.3)\n",
      "Requirement already satisfied: multidict<7.0,>=4.5 in /home/mselser/dev/personal/MSQT/env/lib/python3.10/site-packages (from aiohttp<=3.10.11->ccxt) (6.1.0)\n",
      "Requirement already satisfied: aiosignal>=1.1.2 in /home/mselser/dev/personal/MSQT/env/lib/python3.10/site-packages (from aiohttp<=3.10.11->ccxt) (1.3.1)\n",
      "Requirement already satisfied: attrs>=17.3.0 in /home/mselser/dev/personal/MSQT/env/lib/python3.10/site-packages (from aiohttp<=3.10.11->ccxt) (24.2.0)\n",
      "Requirement already satisfied: async-timeout<6.0,>=4.0 in /home/mselser/dev/personal/MSQT/env/lib/python3.10/site-packages (from aiohttp<=3.10.11->ccxt) (5.0.1)\n",
      "Collecting cffi>=1.12\n",
      "  Downloading cffi-1.17.1-cp310-cp310-manylinux_2_17_x86_64.manylinux2014_x86_64.whl (446 kB)\n",
      "\u001b[2K     \u001b[90m━━━━━━━━━━━━━━━━━━━━━━━━━━━━━━━━━━━━━━━\u001b[0m \u001b[32m446.2/446.2 KB\u001b[0m \u001b[31m2.3 MB/s\u001b[0m eta \u001b[36m0:00:00\u001b[0m00:01\u001b[0m00:01\u001b[0m\n",
      "\u001b[?25hRequirement already satisfied: idna<4,>=2.5 in /home/mselser/dev/personal/MSQT/env/lib/python3.10/site-packages (from requests>=2.18.4->ccxt) (3.7)\n",
      "Requirement already satisfied: charset-normalizer<4,>=2 in /home/mselser/dev/personal/MSQT/env/lib/python3.10/site-packages (from requests>=2.18.4->ccxt) (3.3.2)\n",
      "Requirement already satisfied: urllib3<3,>=1.21.1 in /home/mselser/dev/personal/MSQT/env/lib/python3.10/site-packages (from requests>=2.18.4->ccxt) (2.2.1)\n",
      "Requirement already satisfied: propcache>=0.2.0 in /home/mselser/dev/personal/MSQT/env/lib/python3.10/site-packages (from yarl>=1.7.2->ccxt) (0.2.0)\n",
      "Collecting pycparser\n",
      "  Downloading pycparser-2.22-py3-none-any.whl (117 kB)\n",
      "\u001b[2K     \u001b[90m━━━━━━━━━━━━━━━━━━━━━━━━━━━━━━━━━━━━━━━\u001b[0m \u001b[32m117.6/117.6 KB\u001b[0m \u001b[31m6.1 MB/s\u001b[0m eta \u001b[36m0:00:00\u001b[0m\n",
      "\u001b[?25hInstalling collected packages: setuptools, pycparser, cffi, pycares, cryptography, aiohttp, aiodns, ccxt\n",
      "  Attempting uninstall: setuptools\n",
      "    Found existing installation: setuptools 59.6.0\n",
      "    Uninstalling setuptools-59.6.0:\n",
      "      Successfully uninstalled setuptools-59.6.0\n",
      "  Attempting uninstall: aiohttp\n",
      "    Found existing installation: aiohttp 3.11.7\n",
      "    Uninstalling aiohttp-3.11.7:\n",
      "      Successfully uninstalled aiohttp-3.11.7\n",
      "Successfully installed aiodns-3.2.0 aiohttp-3.10.11 ccxt-4.4.34 cffi-1.17.1 cryptography-43.0.3 pycares-4.5.0 pycparser-2.22 setuptools-75.6.0\n",
      "Note: you may need to restart the kernel to use updated packages.\n"
     ]
    }
   ],
   "source": [
    "%pip install ccxt"
   ]
  },
  {
   "cell_type": "code",
   "execution_count": 7,
   "metadata": {},
   "outputs": [],
   "source": [
    "import ccxt\n",
    "\n",
    "binance_exchange = ccxt.binanceus()"
   ]
  },
  {
   "cell_type": "code",
   "execution_count": 8,
   "metadata": {},
   "outputs": [
    {
     "data": {
      "text/plain": [
       "{'symbol': 'ETH/USDC',\n",
       " 'timestamp': 1732727347775,\n",
       " 'datetime': '2024-11-27T17:09:07.775Z',\n",
       " 'high': 3573.36,\n",
       " 'low': 3252.78,\n",
       " 'bid': 3535.76,\n",
       " 'bidVolume': 0.5295,\n",
       " 'ask': 3566.55,\n",
       " 'askVolume': 1.1822,\n",
       " 'vwap': 3445.67756709,\n",
       " 'open': 3290.51,\n",
       " 'close': 3546.16,\n",
       " 'last': 3546.16,\n",
       " 'previousClose': 3312.8,\n",
       " 'change': 255.65,\n",
       " 'percentage': 7.769,\n",
       " 'average': 3418.33,\n",
       " 'baseVolume': 20.6354,\n",
       " 'quoteVolume': 71102.934868,\n",
       " 'markPrice': None,\n",
       " 'indexPrice': None,\n",
       " 'info': {'symbol': 'ETHUSDC',\n",
       "  'priceChange': '255.65000000',\n",
       "  'priceChangePercent': '7.769',\n",
       "  'weightedAvgPrice': '3445.67756709',\n",
       "  'prevClosePrice': '3312.80000000',\n",
       "  'lastPrice': '3546.16000000',\n",
       "  'lastQty': '0.00430000',\n",
       "  'bidPrice': '3535.76000000',\n",
       "  'bidQty': '0.52950000',\n",
       "  'askPrice': '3566.55000000',\n",
       "  'askQty': '1.18220000',\n",
       "  'openPrice': '3290.51000000',\n",
       "  'highPrice': '3573.36000000',\n",
       "  'lowPrice': '3252.78000000',\n",
       "  'volume': '20.63540000',\n",
       "  'quoteVolume': '71102.93486800',\n",
       "  'openTime': '1732640947775',\n",
       "  'closeTime': '1732727347775',\n",
       "  'firstId': '964712',\n",
       "  'lastId': '964855',\n",
       "  'count': '144'}}"
      ]
     },
     "execution_count": 8,
     "metadata": {},
     "output_type": "execute_result"
    }
   ],
   "source": [
    "binance_exchange.fetch_ticker(\"ETH/USDC\")"
   ]
  },
  {
   "cell_type": "code",
   "execution_count": 9,
   "metadata": {},
   "outputs": [
    {
     "data": {
      "text/plain": [
       "{'symbol': 'ETH/USDC',\n",
       " 'bids': [[3535.76, 0.5295],\n",
       "  [3535.75, 17.5849],\n",
       "  [3535.73, 0.0092],\n",
       "  [3530.41, 0.0092],\n",
       "  [3527.51, 0.0093]],\n",
       " 'asks': [[3566.55, 1.1822],\n",
       "  [3566.58, 5.5416],\n",
       "  [3574.7, 0.0091],\n",
       "  [3577.65, 0.0207],\n",
       "  [3580.0, 0.21]],\n",
       " 'timestamp': None,\n",
       " 'datetime': None,\n",
       " 'nonce': 305535424}"
      ]
     },
     "execution_count": 9,
     "metadata": {},
     "output_type": "execute_result"
    }
   ],
   "source": [
    "binance_exchange.fetch_order_book(\"ETH/USDC\", 5)"
   ]
  },
  {
   "cell_type": "code",
   "execution_count": null,
   "metadata": {},
   "outputs": [],
   "source": []
  }
 ],
 "metadata": {
  "kernelspec": {
   "display_name": "env",
   "language": "python",
   "name": "python3"
  },
  "language_info": {
   "codemirror_mode": {
    "name": "ipython",
    "version": 3
   },
   "file_extension": ".py",
   "mimetype": "text/x-python",
   "name": "python",
   "nbconvert_exporter": "python",
   "pygments_lexer": "ipython3",
   "version": "3.10.12"
  }
 },
 "nbformat": 4,
 "nbformat_minor": 2
}
