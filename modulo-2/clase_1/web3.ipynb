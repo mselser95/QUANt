{
 "cells": [
  {
   "cell_type": "code",
   "execution_count": 133,
   "id": "c4a874df",
   "metadata": {},
   "outputs": [
    {
     "name": "stdout",
     "output_type": "stream",
     "text": [
      "7.6.0\n"
     ]
    }
   ],
   "source": [
    "import web3\n",
    "print(web3.__version__)"
   ]
  },
  {
   "cell_type": "code",
   "execution_count": 134,
   "id": "435d94fc",
   "metadata": {},
   "outputs": [],
   "source": [
    "from web3 import Web3\n",
    "\n",
    "# Required to work with most tesnets\n",
    "from web3.middleware import ExtraDataToPOAMiddleware"
   ]
  },
  {
   "cell_type": "code",
   "execution_count": 135,
   "id": "288ab187",
   "metadata": {},
   "outputs": [],
   "source": [
    "## Instanciate web3 object!\n",
    "\n",
    "# Get the RPC http endpoint from alchemy\n",
    "provider_url = \"https://rpc-amoy.polygon.technology\"\n",
    "\n",
    "w3 = Web3(Web3.HTTPProvider(provider_url))\n",
    "\n",
    "# Need to add a middleware to adjust the response, only used in testnets\n",
    "# https://web3py.readthedocs.io/en/stable/middleware.html\n",
    "w3.middleware_onion.inject(ExtraDataToPOAMiddleware, layer=0)"
   ]
  },
  {
   "cell_type": "markdown",
   "id": "9cccc723",
   "metadata": {},
   "source": [
    "# Methods\n",
    "\n",
    "## Get current block"
   ]
  },
  {
   "cell_type": "markdown",
   "id": "7cbb1b39",
   "metadata": {},
   "source": [
    "### RPC Call"
   ]
  },
  {
   "cell_type": "code",
   "execution_count": 136,
   "id": "b0f51cc0",
   "metadata": {},
   "outputs": [
    {
     "name": "stdout",
     "output_type": "stream",
     "text": [
      "Block Number: 14898162\n"
     ]
    }
   ],
   "source": [
    "import json\n",
    "import requests\n",
    "\n",
    "# Construct the RPC request\n",
    "rpc_request = {\n",
    "    \"jsonrpc\": \"2.0\",\n",
    "    \"method\": \"eth_getBlockByNumber\",\n",
    "    \"params\": [\"latest\", True], # for all transactions in block \n",
    "    \"id\": 1 \n",
    "}\n",
    "\n",
    "# Send the RPC request\n",
    "response = requests.post(provider_url, data=json.dumps(rpc_request), headers={'Content-Type': 'application/json'})\n",
    "\n",
    "# Parse the response\n",
    "if response.status_code == 200:\n",
    "    data = response.json()\n",
    "    block_data = data[\"result\"]\n",
    "    block_number = int(block_data[\"number\"],16)\n",
    "    print(\"Block Number:\", block_number)\n",
    "else:\n",
    "    print(\"RPC request failed.\")"
   ]
  },
  {
   "cell_type": "markdown",
   "id": "016fd35f",
   "metadata": {},
   "source": [
    "### Web3"
   ]
  },
  {
   "cell_type": "code",
   "execution_count": 137,
   "id": "25b13580",
   "metadata": {},
   "outputs": [
    {
     "name": "stdout",
     "output_type": "stream",
     "text": [
      "Block Number: 14898162\n"
     ]
    }
   ],
   "source": [
    "print(f'Block Number: {w3.eth.get_block(\"latest\")[\"number\"]}')"
   ]
  },
  {
   "cell_type": "markdown",
   "id": "7a84422d",
   "metadata": {},
   "source": [
    "##  Get balance"
   ]
  },
  {
   "cell_type": "code",
   "execution_count": 138,
   "id": "6ad6a443",
   "metadata": {},
   "outputs": [],
   "source": [
    "wallet_address = \"0xc39f29A8766974577658DBF2D687d004Ed4E9c14\"\n",
    "wallet_pk = \"d111b1ff547b958f24f71629c84d7700f834299bfee7202a60b8b2569a15fa49\""
   ]
  },
  {
   "cell_type": "markdown",
   "id": "f15bc5e4",
   "metadata": {},
   "source": [
    "### RPC Call"
   ]
  },
  {
   "cell_type": "code",
   "execution_count": 139,
   "id": "a591c0f8",
   "metadata": {},
   "outputs": [
    {
     "name": "stdout",
     "output_type": "stream",
     "text": [
      "Balance of 0xc39f29A8766974577658DBF2D687d004Ed4E9c14: 0.198325594609946 ETH\n"
     ]
    }
   ],
   "source": [
    "import json\n",
    "import requests\n",
    "\n",
    "# Construct the RPC request\n",
    "rpc_request = {\n",
    "    \"jsonrpc\": \"2.0\",\n",
    "    \"method\": \"eth_getBalance\",\n",
    "    \"params\": [wallet_address, \"latest\"], \n",
    "    \"id\": 1  \n",
    "}\n",
    "\n",
    "# Send the RPC request\n",
    "response = requests.post(provider_url, data=json.dumps(rpc_request), headers={'Content-Type': 'application/json'})\n",
    "\n",
    "# Parse the response\n",
    "if response.status_code == 200:\n",
    "    data = response.json()\n",
    "    balance_wei = int(data[\"result\"], 16)  # Convert the balance from hexadecimal to an integer\n",
    "    balance_ether = balance_wei / 10**18  # Convert from Wei to Ether\n",
    "    print(f\"Balance of {wallet_address}: {balance_ether} ETH\")\n",
    "else:\n",
    "    print(\"RPC request failed.\")"
   ]
  },
  {
   "cell_type": "markdown",
   "id": "85268015",
   "metadata": {},
   "source": [
    "### Web3"
   ]
  },
  {
   "cell_type": "code",
   "execution_count": 140,
   "id": "ebec6927",
   "metadata": {},
   "outputs": [
    {
     "name": "stdout",
     "output_type": "stream",
     "text": [
      "Balance of 0xc39f29A8766974577658DBF2D687d004Ed4E9c14 in wei: 198325594609946000\n",
      "Balance of 0xc39f29A8766974577658DBF2D687d004Ed4E9c14 in eth: 0.198325594609946\n"
     ]
    }
   ],
   "source": [
    "# Using Web3\n",
    "balance = w3.eth.get_balance(wallet_address)\n",
    "print(f\"Balance of {wallet_address} in wei: {balance}\")\n",
    "\n",
    "scaled_balance = w3.from_wei(balance, \"ether\")\n",
    "print(f\"Balance of {wallet_address} in eth: {scaled_balance}\")\n"
   ]
  },
  {
   "cell_type": "markdown",
   "id": "68b255b6",
   "metadata": {},
   "source": [
    "## Send eth"
   ]
  },
  {
   "cell_type": "code",
   "execution_count": 141,
   "id": "8ad7d632",
   "metadata": {},
   "outputs": [],
   "source": [
    "# Helper function\n",
    "def get_balance(address):\n",
    "    balance = w3.eth.get_balance(address)\n",
    "    scaled_balance = w3.from_wei(balance, \"ether\")\n",
    "    return scaled_balance"
   ]
  },
  {
   "cell_type": "markdown",
   "id": "150e04cd",
   "metadata": {},
   "source": [
    "### Web3"
   ]
  },
  {
   "cell_type": "code",
   "execution_count": 142,
   "id": "69e24d82",
   "metadata": {},
   "outputs": [],
   "source": [
    "# To generate the gas price\n",
    "from web3.gas_strategies.time_based import fast_gas_price_strategy\n",
    "\n",
    "recipient_address = \"0x0c5EA4F0f024457343c5A9A99a34BE358Daac843\"\n",
    "\n",
    "\n",
    "# Amount to send in Wei (0.001 ETH in Wei)\n",
    "amount_wei = w3.to_wei(0.000012345, 'ether')\n",
    "\n",
    "# Nonce (can be obtained using web3.eth.getTransactionCount)\n",
    "nonce = w3.eth.get_transaction_count(wallet_address)\n",
    "\n",
    "# set fast gas price strategy\n",
    "w3.eth.set_gas_price_strategy(fast_gas_price_strategy)\n",
    "\n",
    "# Create a transaction dictionary\n",
    "transaction = {\n",
    "    'to': recipient_address,\n",
    "    'value': amount_wei,\n",
    "    'gas': 25000,  # Gas limit for a standard transaction\n",
    "    \"gasPrice\": w3.eth.generate_gas_price(),\n",
    "    'nonce': nonce,\n",
    "    'chainId': w3.eth.chain_id,  # 1 for the Ethereum Mainnet (adjust for other networks)\n",
    "}\n",
    "\n",
    "\n",
    "# Sign the transaction\n",
    "from web3 import Account\n",
    "signed_transaction = Account.sign_transaction(transaction, wallet_pk)"
   ]
  },
  {
   "cell_type": "code",
   "execution_count": 143,
   "id": "1ed9fd32",
   "metadata": {},
   "outputs": [
    {
     "name": "stdout",
     "output_type": "stream",
     "text": [
      "Balance of 0xc39f29A8766974577658DBF2D687d004Ed4E9c14: 0.198325594609946\n",
      "Balance of 0x0c5EA4F0f024457343c5A9A99a34BE358Daac843: 0.000037035\n",
      "Transaction hash: a3ac81aee46ca6bd6c13a6e2f0de3d5c40530af841e641f3678c92e9b4a7c751\n",
      "Balance of 0xc39f29A8766974577658DBF2D687d004Ed4E9c14: 0.000037035\n",
      "Balance of 0x0c5EA4F0f024457343c5A9A99a34BE358Daac843: 0.000037035\n"
     ]
    }
   ],
   "source": [
    "\n",
    "# Check balance after\n",
    "print(f\"Balance of {wallet_address}: {get_balance(wallet_address)}\")\n",
    "print(f\"Balance of {recipient_address}: {get_balance(recipient_address)}\")\n",
    "\n",
    "transaction_hash = w3.eth.send_raw_transaction(signed_transaction[0])\n",
    "print(f\"Transaction hash: {transaction_hash.hex()}\")\n",
    "\n",
    "# Check balance after\n",
    "print(f\"Balance of {wallet_address}: {get_balance(recipient_address)}\")\n",
    "print(f\"Balance of {recipient_address}: {get_balance(recipient_address)}\")"
   ]
  },
  {
   "cell_type": "code",
   "execution_count": 144,
   "id": "35006b2d",
   "metadata": {},
   "outputs": [
    {
     "name": "stdout",
     "output_type": "stream",
     "text": [
      "Waiting for transaction...\n",
      "Not Found!\n",
      "Waiting for transaction...\n",
      "Not Found!\n",
      "Waiting for transaction...\n",
      "Not Found!\n",
      "Waiting for transaction...\n",
      "Not Found!\n",
      "Waiting for transaction...\n",
      "AttributeDict({'blockHash': HexBytes('0x66c9b577b1efc20d10b0a072bf2083ec8e961949a6ed96d9b5113a3626654f48'), 'blockNumber': 14898184, 'contractAddress': None, 'cumulativeGasUsed': 157106, 'effectiveGasPrice': 28633799646, 'from': '0xc39f29A8766974577658DBF2D687d004Ed4E9c14', 'gasUsed': 21000, 'logs': [AttributeDict({'address': '0x0000000000000000000000000000000000001010', 'topics': [HexBytes('0xe6497e3ee548a3372136af2fcb0696db31fc6cf20260707645068bd3fe97f3c4'), HexBytes('0x0000000000000000000000000000000000000000000000000000000000001010'), HexBytes('0x000000000000000000000000c39f29a8766974577658dbf2d687d004ed4e9c14'), HexBytes('0x0000000000000000000000000c5ea4f0f024457343c5a9a99a34be358daac843')], 'data': HexBytes('0x00000000000000000000000000000000000000000000000000000b3a4b56fa0000000000000000000000000000000000000000000000000002be0d05322ea5e0000000000000000000000000000000000000000000000000000021aee204ee0000000000000000000000000000000000000000000000000002be01cae6d7abe000000000000000000000000000000000000000000000000000002ce92d5be800'), 'blockNumber': 14898184, 'transactionHash': HexBytes('0xa3ac81aee46ca6bd6c13a6e2f0de3d5c40530af841e641f3678c92e9b4a7c751'), 'transactionIndex': 2, 'blockHash': HexBytes('0x66c9b577b1efc20d10b0a072bf2083ec8e961949a6ed96d9b5113a3626654f48'), 'logIndex': 3, 'removed': False}), AttributeDict({'address': '0x0000000000000000000000000000000000001010', 'topics': [HexBytes('0x4dfe1bbbcf077ddc3e01291eea2d5c70c2b422b415d95645b9adcfd678cb1d63'), HexBytes('0x0000000000000000000000000000000000000000000000000000000000001010'), HexBytes('0x000000000000000000000000c39f29a8766974577658dbf2d687d004ed4e9c14'), HexBytes('0x000000000000000000000000915a2284d28bd93de7d6f31173b981204bb666e6')], 'data': HexBytes('0x000000000000000000000000000000000000000000000000000222e358912c7800000000000000000000000000000000000000000000000002c09813d8980d9000000000000000000000000000000000000000000000052920fb578f026e167800000000000000000000000000000000000000000000000002be75308006e11800000000000000000000000000000000000000000000052920fd7a725aff42f0'), 'blockNumber': 14898184, 'transactionHash': HexBytes('0xa3ac81aee46ca6bd6c13a6e2f0de3d5c40530af841e641f3678c92e9b4a7c751'), 'transactionIndex': 2, 'blockHash': HexBytes('0x66c9b577b1efc20d10b0a072bf2083ec8e961949a6ed96d9b5113a3626654f48'), 'logIndex': 4, 'removed': False})], 'logsBloom': HexBytes('0x00000000000000000010000000000000000000000000000000000000000002000000000000000000000000100000000000008000000000080000000040000000000000000000000000000000000000800010000000000000000100000000000000000000000000000000000000000000000000000000000080000000000000000000000000000000000000000000800000000000000000000000000000000000200000000000000000000000000000000000000000000000000000000000004000100000000000000001000000000000000002000000800000108000000000000000000000000000000000000000000000000000400000000000000000100000'), 'status': 1, 'to': '0x0c5EA4F0f024457343c5A9A99a34BE358Daac843', 'transactionHash': HexBytes('0xa3ac81aee46ca6bd6c13a6e2f0de3d5c40530af841e641f3678c92e9b4a7c751'), 'transactionIndex': 2, 'type': 0})\n"
     ]
    }
   ],
   "source": [
    "from web3.exceptions import TransactionNotFound\n",
    "import time\n",
    "\n",
    "#Wait for the transaction to be mined\n",
    "while True:\n",
    "    print(\"Waiting for transaction...\")\n",
    "    try:\n",
    "        transaction_receipt = w3.eth.get_transaction_receipt(transaction_hash)\n",
    "        if transaction_receipt is not None:\n",
    "            if transaction_receipt['status'] == 1:\n",
    "                print(transaction_receipt)\n",
    "            else:\n",
    "                print(\"Transaction failed.\")\n",
    "            break\n",
    "        # Wait for a few seconds before checking again\n",
    "    except TransactionNotFound:\n",
    "        print(\"Not Found!\")\n",
    "        time.sleep(0.25)"
   ]
  },
  {
   "cell_type": "code",
   "execution_count": 145,
   "id": "70dcbcf1",
   "metadata": {},
   "outputs": [
    {
     "name": "stdout",
     "output_type": "stream",
     "text": [
      "Balance of 0xc39f29A8766974577658DBF2D687d004Ed4E9c14: 0.19771193981738\n",
      "Balance of 0x0c5EA4F0f024457343c5A9A99a34BE358Daac843: 0.00004938\n"
     ]
    }
   ],
   "source": [
    "# Check balance after\n",
    "print(f\"Balance of {wallet_address}: {get_balance(wallet_address)}\")\n",
    "print(f\"Balance of {recipient_address}: {get_balance(recipient_address)}\")"
   ]
  },
  {
   "cell_type": "markdown",
   "id": "8633eefb",
   "metadata": {},
   "source": [
    "# Filtering"
   ]
  },
  {
   "cell_type": "code",
   "execution_count": 146,
   "id": "8abcc5ef",
   "metadata": {},
   "outputs": [
    {
     "name": "stdout",
     "output_type": "stream",
     "text": [
      "aca079f8a837c61019a5d4977a8363fc6e7b035b8ff1899fac3317faf5f62c4c\n",
      "9e6fa055687465ff9a47593381298b2c280b846f92fc2153a85b2e2439eaef04\n",
      "Transaction found!\n",
      "No swap\n",
      "No swap\n",
      "No swap\n",
      "No swap\n",
      "Swap!\n",
      "d5d58f449828cfebdc8d51127c1d25e6d2c2f0802f7ecbfe176d534910154be0\n",
      "ff3f6b309b3c4a8b0abf1c296b437b10802498027e4ba46029cad8ad87da85e5\n",
      "ed04669722cb94fbcf267e9a4cf913e2c327ac1786a2ffa545ac41989b90538f\n",
      "f53d05db1e4af97892a6ef575a3cb7735e4f778e4f6e8a5029e80cdcf72d61e9\n",
      "3d2f56db9dab40a20e7839f25b29c31fd8ed753d997bf3d9624de2d544af2e5b\n",
      "bb3fa2e4cb8ba5745f232e934d5ddc4815ea5af6981cc2379e86a4cc865b4cc5\n",
      "f34612aa67439e27282b29164fe03ce43167d18cb1b0e4dfe8734a563db44440\n",
      "642816aa2a067ad6ac2456e131494044747911bff2ec3b3d65d44a14876e1480\n",
      "7e34b0b633e87ad358741754d437352880dd44e3bda56877a2d78c3d24b49c49\n",
      "655b9b6b4271e32dc7e19a033ab237c01227e8faf4cacacada4dee9dc5743fca\n",
      "be7f01266625984f1ce464385217b4663942d7134ec4510cd9cb74456f871e3f\n",
      "415e8c5c7b6aeed12320ab78523f09569ca5daa9c02ddd9d4d451764d894bc75\n",
      "8d421ffd3439738821b7b056e06bc25880b260bb4736e8cd76d67d7eb56d6b3a\n",
      "80c1d051db69a0b2e58a69829727cf84eef039870e0bf883d0dd1aade488db10\n",
      "b99ecfb4d5cbe07a476199d7ad27e8a863134a662d83e051b0a2b0452a4775d6\n",
      "16d35c9d14c8058fd45a89ebb68d61c62399320cd21335466032da89c6fe96db\n",
      "a745619f437f0cc40ce8287de8ba8c71f561e2b873819b5e652d34a0b8a89f41\n",
      "f9d7ca3a4f06d3d87bf782147569921443f8bd8658e529bae077a74b385644e4\n",
      "15be0515c881a4861acaaa2e7f568b4c4962840097f9af103423ab8524e6eb27\n",
      "ad68855bea51a6976b732b62869a23de8feaa571a7131d14a43f4680b5cacd60\n",
      "f2b5fc1b38f6833e247fe838100fbfc8239e8929146b4db3e5d602ef5b27f1c3\n",
      "b285c842fae4b0273ca36631109043e66dd92f08b6b803da69350857e603c23f\n",
      "ed28a8568f7cd8f7dc1e5a0e2a69d07960945ddcbc42c006d52e96c0b11b9abb\n",
      "f4a997b39a8aa7b03b7c1cd8fde5ca7ad0cbce5c1e72d5b4760160519a36ad84\n",
      "1656a3a78e1f1f6b2a996e3f8f1199001108914f95997e41c943c210ba0e589d\n",
      "7d88fd8a8425bf1a0a1ede569e4b74323b331446564e213ff0140f566e20c116\n",
      "33b76a04fc4288c214cdffd1dcbbeecb40931bd09ca0b49d7026110ed4f239e0\n",
      "e906ead47ab0628f7d817af9eee8da317c363600520590173b3aff379572157a\n",
      "12a6665d71820a5ea0baf82ea825d4bd3e7224071b97b1800aea661fe9e3b9d8\n",
      "291d48960373a4031820a0e8ee6aff84e226dd97d66cc3c029f02ff401b999ac\n",
      "ac6ab365c1abf1799d9980ab636b99fa2e968ad54152d4d1a9a6cb2bcfb1d84e\n",
      "57259ea774afe15c82fb00e24b3cb613d8ec8d7933a0ddc1dc4d002bae3c5d9c\n",
      "f474597a0f122d74d76d81a89c69a79bfd268603214214c771dd4ca9b6d75308\n",
      "7bda89c1dddfcc56ec8a2c37ee437606f49e040e086d3110135f8ab3aae1d65d\n",
      "e2ed95a2b08f4c5acee23ab8205ed34cf5bb408289ee21ff6637f95f6c60d306\n",
      "a5da9d737ca25033b1cb02b09831e550a96599f93306385cb9b8814847780c71\n",
      "1bcdb3f038f4d3aeb7c879647ed668423eca4ce16a1f364738ad3d90bd8a29b8\n",
      "04bca2035ea1709788ab8e006c0ef679a2a1fb0de67bba4a2865ab27934e845f\n",
      "1bb77e4805fe80474bb1c37aec5e9678ea91ee0abaf07b12afcc0deb79fafb3b\n",
      "48663c63363aa06cfc84577421e16e67f8df898382bd97bd3f6f88568ab24074\n",
      "2c583a3b8bd4fb7df09a8592a7305478208a98293876df5f7b2cc676f8cc9a1f\n",
      "cafd7df4c003d57cb57153e6757bde9eb9364aec15e0732e2516ce5af5f01e6e\n",
      "f8f84beba9dcbe11399674c979f753ef683360c844975d21685ebe44a5224172\n",
      "f429e68531ea776f980b2e528789a5d8709e84ea3b0b134ad64ebd378da55c49\n",
      "6122b73c2322fa02d5a620673ccc895175f6f9d52959727a95f26594e1996103\n",
      "ce6094c188c0062e665c81e4282b535b91cb57adf60947c71ccf4e165c630832\n",
      "6468f66b17313d9e3308811986151e0c2b4bec524756b8671b53d21c6845233e\n",
      "6290bc94fc2b5a82f141c5ac6dbe6c2eb87d22d772a19b7fd2e5378d8a31f145\n",
      "ca169528e72b97797e155a1295229934cd824c5630ac99b566b7504851115735\n",
      "794b584e5bc1f35821f47561b479010792180b570a9d1dfe1e45a72e4d97dba6\n",
      "3ebd3798f63aee73bc197a9f2c593b0c7d31f06e831e4e38ee2c565b30bebe48\n",
      "a07ce9346c7a2badf0c77e4c8bf33cc9de7514def6c106a48cd6272d0499ff3b\n",
      "20efa895563c31cb83dc4a11de743820bbf88de8de8664448904df1756709fbf\n",
      "dd3f31dc69e7cf4529411f0f74a8a3ee71da1428f3d970f51306990e0778a896\n",
      "c92f14b4e6e94b159c945d91f11e1452d7b209e5d1c8700c2065a443175059f2\n",
      "2dddf4237dc505b980721fff711a4915e087b5fab8809f2bb60915237a83638f\n",
      "bd0d9af55ecfe5a8d7d839ad7e6f75609fdc79e3c8cda14a27138bc745493712\n",
      "63492a63c20e360889487bf2df77c741f6254cbab2dda8eff9b6d4ed39cc0197\n",
      "39f556e9548a79f7521e9fd0cf18c997c04821171919e1111e403993ef20a77f\n"
     ]
    }
   ],
   "source": [
    "from web3 import Web3\n",
    "import time\n",
    "\n",
    "# https://polygonscan.com/tx/0x9e6fa055687465ff9a47593381298b2c280b846f92fc2153a85b2e2439eaef04\n",
    "# Get the RPC http endpoint from alchemy\n",
    "# provider_url = \"https://polygon.llamarpc.com\" public and free!\n",
    "provider_url = \"https://polygon-mainnet.g.alchemy.com/v2/CIbzNnYgUgzchulujOTtzhVAdIdIG_n4\"\n",
    "\n",
    "w3 = Web3(Web3.HTTPProvider(provider_url))\n",
    "# Need to add a middleware to adjust the response, only used in testnets\n",
    "w3.middleware_onion.inject(ExtraDataToPOAMiddleware, layer=0)\n",
    "\n",
    "event_signature_hash = Web3.keccak(text=\"Swap(address,uint256,uint256,uint256,uint256,address)\").hex()\n",
    "\n",
    "block = w3.eth.get_block(64720237)\n",
    "for tx_hash in block.transactions:\n",
    "    hex_transactions_hash = tx_hash.hex().lower()\n",
    "    print(hex_transactions_hash)\n",
    "    \n",
    "    # Now we get the receipt\n",
    "    # 0x9e6fa055687465ff9a47593381298b2c280b846f92fc2153a85b2e2439eaef04\n",
    "    if hex_transactions_hash == \"9e6fa055687465ff9a47593381298b2c280b846f92fc2153a85b2e2439eaef04\".lower():\n",
    "        print(\"Transaction found!\")\n",
    "        receipt = w3.eth.get_transaction_receipt(hex_transactions_hash)\n",
    "        for log in receipt.logs:\n",
    "            log_signature = log[\"topics\"][0].hex()\n",
    "            if event_signature_hash == log_signature:\n",
    "                print(\"Swap!\") # this is the Event hash! We can decode the parameters now!\n",
    "                break\n",
    "            else:\n",
    "                print(\"No swap\")\n",
    "        \n",
    "    time.sleep(0.25)\n",
    "\n"
   ]
  },
  {
   "cell_type": "markdown",
   "id": "38b0fbc2",
   "metadata": {},
   "source": [
    "### Tarea propuesta #1\n",
    "\n",
    "Crear un programa fuera del entorno interactivo de python que permita suscribirse por websockets en tiempo real a eventos!"
   ]
  },
  {
   "cell_type": "markdown",
   "id": "d19f698c",
   "metadata": {},
   "source": [
    "# Contratos"
   ]
  },
  {
   "cell_type": "code",
   "execution_count": 147,
   "id": "5f338128",
   "metadata": {},
   "outputs": [],
   "source": [
    "# https://polygonscan.com/address/0xc35dadb65012ec5796536bd9864ed8773abc74c4#readContract factory\n",
    "# https://polygonscan.com/address/0x1b02da8cb0d097eb8d57a175b88c7d8b47997506#code\n",
    "\n",
    "v2_router_address = \"0x1b02da8cb0d097eb8d57a175b88c7d8b47997506\"\n",
    "v2_router_abi = [{\"inputs\":[{\"internalType\":\"address\",\"name\":\"_factory\",\"type\":\"address\"},{\"internalType\":\"address\",\"name\":\"_WETH\",\"type\":\"address\"}],\"stateMutability\":\"nonpayable\",\"type\":\"constructor\"},{\"inputs\":[],\"name\":\"WETH\",\"outputs\":[{\"internalType\":\"address\",\"name\":\"\",\"type\":\"address\"}],\"stateMutability\":\"view\",\"type\":\"function\"},{\"inputs\":[{\"internalType\":\"address\",\"name\":\"tokenA\",\"type\":\"address\"},{\"internalType\":\"address\",\"name\":\"tokenB\",\"type\":\"address\"},{\"internalType\":\"uint256\",\"name\":\"amountADesired\",\"type\":\"uint256\"},{\"internalType\":\"uint256\",\"name\":\"amountBDesired\",\"type\":\"uint256\"},{\"internalType\":\"uint256\",\"name\":\"amountAMin\",\"type\":\"uint256\"},{\"internalType\":\"uint256\",\"name\":\"amountBMin\",\"type\":\"uint256\"},{\"internalType\":\"address\",\"name\":\"to\",\"type\":\"address\"},{\"internalType\":\"uint256\",\"name\":\"deadline\",\"type\":\"uint256\"}],\"name\":\"addLiquidity\",\"outputs\":[{\"internalType\":\"uint256\",\"name\":\"amountA\",\"type\":\"uint256\"},{\"internalType\":\"uint256\",\"name\":\"amountB\",\"type\":\"uint256\"},{\"internalType\":\"uint256\",\"name\":\"liquidity\",\"type\":\"uint256\"}],\"stateMutability\":\"nonpayable\",\"type\":\"function\"},{\"inputs\":[{\"internalType\":\"address\",\"name\":\"token\",\"type\":\"address\"},{\"internalType\":\"uint256\",\"name\":\"amountTokenDesired\",\"type\":\"uint256\"},{\"internalType\":\"uint256\",\"name\":\"amountTokenMin\",\"type\":\"uint256\"},{\"internalType\":\"uint256\",\"name\":\"amountETHMin\",\"type\":\"uint256\"},{\"internalType\":\"address\",\"name\":\"to\",\"type\":\"address\"},{\"internalType\":\"uint256\",\"name\":\"deadline\",\"type\":\"uint256\"}],\"name\":\"addLiquidityETH\",\"outputs\":[{\"internalType\":\"uint256\",\"name\":\"amountToken\",\"type\":\"uint256\"},{\"internalType\":\"uint256\",\"name\":\"amountETH\",\"type\":\"uint256\"},{\"internalType\":\"uint256\",\"name\":\"liquidity\",\"type\":\"uint256\"}],\"stateMutability\":\"payable\",\"type\":\"function\"},{\"inputs\":[],\"name\":\"factory\",\"outputs\":[{\"internalType\":\"address\",\"name\":\"\",\"type\":\"address\"}],\"stateMutability\":\"view\",\"type\":\"function\"},{\"inputs\":[{\"internalType\":\"uint256\",\"name\":\"amountOut\",\"type\":\"uint256\"},{\"internalType\":\"uint256\",\"name\":\"reserveIn\",\"type\":\"uint256\"},{\"internalType\":\"uint256\",\"name\":\"reserveOut\",\"type\":\"uint256\"}],\"name\":\"getAmountIn\",\"outputs\":[{\"internalType\":\"uint256\",\"name\":\"amountIn\",\"type\":\"uint256\"}],\"stateMutability\":\"pure\",\"type\":\"function\"},{\"inputs\":[{\"internalType\":\"uint256\",\"name\":\"amountIn\",\"type\":\"uint256\"},{\"internalType\":\"uint256\",\"name\":\"reserveIn\",\"type\":\"uint256\"},{\"internalType\":\"uint256\",\"name\":\"reserveOut\",\"type\":\"uint256\"}],\"name\":\"getAmountOut\",\"outputs\":[{\"internalType\":\"uint256\",\"name\":\"amountOut\",\"type\":\"uint256\"}],\"stateMutability\":\"pure\",\"type\":\"function\"},{\"inputs\":[{\"internalType\":\"uint256\",\"name\":\"amountOut\",\"type\":\"uint256\"},{\"internalType\":\"address[]\",\"name\":\"path\",\"type\":\"address[]\"}],\"name\":\"getAmountsIn\",\"outputs\":[{\"internalType\":\"uint256[]\",\"name\":\"amounts\",\"type\":\"uint256[]\"}],\"stateMutability\":\"view\",\"type\":\"function\"},{\"inputs\":[{\"internalType\":\"uint256\",\"name\":\"amountIn\",\"type\":\"uint256\"},{\"internalType\":\"address[]\",\"name\":\"path\",\"type\":\"address[]\"}],\"name\":\"getAmountsOut\",\"outputs\":[{\"internalType\":\"uint256[]\",\"name\":\"amounts\",\"type\":\"uint256[]\"}],\"stateMutability\":\"view\",\"type\":\"function\"},{\"inputs\":[{\"internalType\":\"uint256\",\"name\":\"amountA\",\"type\":\"uint256\"},{\"internalType\":\"uint256\",\"name\":\"reserveA\",\"type\":\"uint256\"},{\"internalType\":\"uint256\",\"name\":\"reserveB\",\"type\":\"uint256\"}],\"name\":\"quote\",\"outputs\":[{\"internalType\":\"uint256\",\"name\":\"amountB\",\"type\":\"uint256\"}],\"stateMutability\":\"pure\",\"type\":\"function\"},{\"inputs\":[{\"internalType\":\"address\",\"name\":\"tokenA\",\"type\":\"address\"},{\"internalType\":\"address\",\"name\":\"tokenB\",\"type\":\"address\"},{\"internalType\":\"uint256\",\"name\":\"liquidity\",\"type\":\"uint256\"},{\"internalType\":\"uint256\",\"name\":\"amountAMin\",\"type\":\"uint256\"},{\"internalType\":\"uint256\",\"name\":\"amountBMin\",\"type\":\"uint256\"},{\"internalType\":\"address\",\"name\":\"to\",\"type\":\"address\"},{\"internalType\":\"uint256\",\"name\":\"deadline\",\"type\":\"uint256\"}],\"name\":\"removeLiquidity\",\"outputs\":[{\"internalType\":\"uint256\",\"name\":\"amountA\",\"type\":\"uint256\"},{\"internalType\":\"uint256\",\"name\":\"amountB\",\"type\":\"uint256\"}],\"stateMutability\":\"nonpayable\",\"type\":\"function\"},{\"inputs\":[{\"internalType\":\"address\",\"name\":\"token\",\"type\":\"address\"},{\"internalType\":\"uint256\",\"name\":\"liquidity\",\"type\":\"uint256\"},{\"internalType\":\"uint256\",\"name\":\"amountTokenMin\",\"type\":\"uint256\"},{\"internalType\":\"uint256\",\"name\":\"amountETHMin\",\"type\":\"uint256\"},{\"internalType\":\"address\",\"name\":\"to\",\"type\":\"address\"},{\"internalType\":\"uint256\",\"name\":\"deadline\",\"type\":\"uint256\"}],\"name\":\"removeLiquidityETH\",\"outputs\":[{\"internalType\":\"uint256\",\"name\":\"amountToken\",\"type\":\"uint256\"},{\"internalType\":\"uint256\",\"name\":\"amountETH\",\"type\":\"uint256\"}],\"stateMutability\":\"nonpayable\",\"type\":\"function\"},{\"inputs\":[{\"internalType\":\"address\",\"name\":\"token\",\"type\":\"address\"},{\"internalType\":\"uint256\",\"name\":\"liquidity\",\"type\":\"uint256\"},{\"internalType\":\"uint256\",\"name\":\"amountTokenMin\",\"type\":\"uint256\"},{\"internalType\":\"uint256\",\"name\":\"amountETHMin\",\"type\":\"uint256\"},{\"internalType\":\"address\",\"name\":\"to\",\"type\":\"address\"},{\"internalType\":\"uint256\",\"name\":\"deadline\",\"type\":\"uint256\"}],\"name\":\"removeLiquidityETHSupportingFeeOnTransferTokens\",\"outputs\":[{\"internalType\":\"uint256\",\"name\":\"amountETH\",\"type\":\"uint256\"}],\"stateMutability\":\"nonpayable\",\"type\":\"function\"},{\"inputs\":[{\"internalType\":\"address\",\"name\":\"token\",\"type\":\"address\"},{\"internalType\":\"uint256\",\"name\":\"liquidity\",\"type\":\"uint256\"},{\"internalType\":\"uint256\",\"name\":\"amountTokenMin\",\"type\":\"uint256\"},{\"internalType\":\"uint256\",\"name\":\"amountETHMin\",\"type\":\"uint256\"},{\"internalType\":\"address\",\"name\":\"to\",\"type\":\"address\"},{\"internalType\":\"uint256\",\"name\":\"deadline\",\"type\":\"uint256\"},{\"internalType\":\"bool\",\"name\":\"approveMax\",\"type\":\"bool\"},{\"internalType\":\"uint8\",\"name\":\"v\",\"type\":\"uint8\"},{\"internalType\":\"bytes32\",\"name\":\"r\",\"type\":\"bytes32\"},{\"internalType\":\"bytes32\",\"name\":\"s\",\"type\":\"bytes32\"}],\"name\":\"removeLiquidityETHWithPermit\",\"outputs\":[{\"internalType\":\"uint256\",\"name\":\"amountToken\",\"type\":\"uint256\"},{\"internalType\":\"uint256\",\"name\":\"amountETH\",\"type\":\"uint256\"}],\"stateMutability\":\"nonpayable\",\"type\":\"function\"},{\"inputs\":[{\"internalType\":\"address\",\"name\":\"token\",\"type\":\"address\"},{\"internalType\":\"uint256\",\"name\":\"liquidity\",\"type\":\"uint256\"},{\"internalType\":\"uint256\",\"name\":\"amountTokenMin\",\"type\":\"uint256\"},{\"internalType\":\"uint256\",\"name\":\"amountETHMin\",\"type\":\"uint256\"},{\"internalType\":\"address\",\"name\":\"to\",\"type\":\"address\"},{\"internalType\":\"uint256\",\"name\":\"deadline\",\"type\":\"uint256\"},{\"internalType\":\"bool\",\"name\":\"approveMax\",\"type\":\"bool\"},{\"internalType\":\"uint8\",\"name\":\"v\",\"type\":\"uint8\"},{\"internalType\":\"bytes32\",\"name\":\"r\",\"type\":\"bytes32\"},{\"internalType\":\"bytes32\",\"name\":\"s\",\"type\":\"bytes32\"}],\"name\":\"removeLiquidityETHWithPermitSupportingFeeOnTransferTokens\",\"outputs\":[{\"internalType\":\"uint256\",\"name\":\"amountETH\",\"type\":\"uint256\"}],\"stateMutability\":\"nonpayable\",\"type\":\"function\"},{\"inputs\":[{\"internalType\":\"address\",\"name\":\"tokenA\",\"type\":\"address\"},{\"internalType\":\"address\",\"name\":\"tokenB\",\"type\":\"address\"},{\"internalType\":\"uint256\",\"name\":\"liquidity\",\"type\":\"uint256\"},{\"internalType\":\"uint256\",\"name\":\"amountAMin\",\"type\":\"uint256\"},{\"internalType\":\"uint256\",\"name\":\"amountBMin\",\"type\":\"uint256\"},{\"internalType\":\"address\",\"name\":\"to\",\"type\":\"address\"},{\"internalType\":\"uint256\",\"name\":\"deadline\",\"type\":\"uint256\"},{\"internalType\":\"bool\",\"name\":\"approveMax\",\"type\":\"bool\"},{\"internalType\":\"uint8\",\"name\":\"v\",\"type\":\"uint8\"},{\"internalType\":\"bytes32\",\"name\":\"r\",\"type\":\"bytes32\"},{\"internalType\":\"bytes32\",\"name\":\"s\",\"type\":\"bytes32\"}],\"name\":\"removeLiquidityWithPermit\",\"outputs\":[{\"internalType\":\"uint256\",\"name\":\"amountA\",\"type\":\"uint256\"},{\"internalType\":\"uint256\",\"name\":\"amountB\",\"type\":\"uint256\"}],\"stateMutability\":\"nonpayable\",\"type\":\"function\"},{\"inputs\":[{\"internalType\":\"uint256\",\"name\":\"amountOut\",\"type\":\"uint256\"},{\"internalType\":\"address[]\",\"name\":\"path\",\"type\":\"address[]\"},{\"internalType\":\"address\",\"name\":\"to\",\"type\":\"address\"},{\"internalType\":\"uint256\",\"name\":\"deadline\",\"type\":\"uint256\"}],\"name\":\"swapETHForExactTokens\",\"outputs\":[{\"internalType\":\"uint256[]\",\"name\":\"amounts\",\"type\":\"uint256[]\"}],\"stateMutability\":\"payable\",\"type\":\"function\"},{\"inputs\":[{\"internalType\":\"uint256\",\"name\":\"amountOutMin\",\"type\":\"uint256\"},{\"internalType\":\"address[]\",\"name\":\"path\",\"type\":\"address[]\"},{\"internalType\":\"address\",\"name\":\"to\",\"type\":\"address\"},{\"internalType\":\"uint256\",\"name\":\"deadline\",\"type\":\"uint256\"}],\"name\":\"swapExactETHForTokens\",\"outputs\":[{\"internalType\":\"uint256[]\",\"name\":\"amounts\",\"type\":\"uint256[]\"}],\"stateMutability\":\"payable\",\"type\":\"function\"},{\"inputs\":[{\"internalType\":\"uint256\",\"name\":\"amountOutMin\",\"type\":\"uint256\"},{\"internalType\":\"address[]\",\"name\":\"path\",\"type\":\"address[]\"},{\"internalType\":\"address\",\"name\":\"to\",\"type\":\"address\"},{\"internalType\":\"uint256\",\"name\":\"deadline\",\"type\":\"uint256\"}],\"name\":\"swapExactETHForTokensSupportingFeeOnTransferTokens\",\"outputs\":[],\"stateMutability\":\"payable\",\"type\":\"function\"},{\"inputs\":[{\"internalType\":\"uint256\",\"name\":\"amountIn\",\"type\":\"uint256\"},{\"internalType\":\"uint256\",\"name\":\"amountOutMin\",\"type\":\"uint256\"},{\"internalType\":\"address[]\",\"name\":\"path\",\"type\":\"address[]\"},{\"internalType\":\"address\",\"name\":\"to\",\"type\":\"address\"},{\"internalType\":\"uint256\",\"name\":\"deadline\",\"type\":\"uint256\"}],\"name\":\"swapExactTokensForETH\",\"outputs\":[{\"internalType\":\"uint256[]\",\"name\":\"amounts\",\"type\":\"uint256[]\"}],\"stateMutability\":\"nonpayable\",\"type\":\"function\"},{\"inputs\":[{\"internalType\":\"uint256\",\"name\":\"amountIn\",\"type\":\"uint256\"},{\"internalType\":\"uint256\",\"name\":\"amountOutMin\",\"type\":\"uint256\"},{\"internalType\":\"address[]\",\"name\":\"path\",\"type\":\"address[]\"},{\"internalType\":\"address\",\"name\":\"to\",\"type\":\"address\"},{\"internalType\":\"uint256\",\"name\":\"deadline\",\"type\":\"uint256\"}],\"name\":\"swapExactTokensForETHSupportingFeeOnTransferTokens\",\"outputs\":[],\"stateMutability\":\"nonpayable\",\"type\":\"function\"},{\"inputs\":[{\"internalType\":\"uint256\",\"name\":\"amountIn\",\"type\":\"uint256\"},{\"internalType\":\"uint256\",\"name\":\"amountOutMin\",\"type\":\"uint256\"},{\"internalType\":\"address[]\",\"name\":\"path\",\"type\":\"address[]\"},{\"internalType\":\"address\",\"name\":\"to\",\"type\":\"address\"},{\"internalType\":\"uint256\",\"name\":\"deadline\",\"type\":\"uint256\"}],\"name\":\"swapExactTokensForTokens\",\"outputs\":[{\"internalType\":\"uint256[]\",\"name\":\"amounts\",\"type\":\"uint256[]\"}],\"stateMutability\":\"nonpayable\",\"type\":\"function\"},{\"inputs\":[{\"internalType\":\"uint256\",\"name\":\"amountIn\",\"type\":\"uint256\"},{\"internalType\":\"uint256\",\"name\":\"amountOutMin\",\"type\":\"uint256\"},{\"internalType\":\"address[]\",\"name\":\"path\",\"type\":\"address[]\"},{\"internalType\":\"address\",\"name\":\"to\",\"type\":\"address\"},{\"internalType\":\"uint256\",\"name\":\"deadline\",\"type\":\"uint256\"}],\"name\":\"swapExactTokensForTokensSupportingFeeOnTransferTokens\",\"outputs\":[],\"stateMutability\":\"nonpayable\",\"type\":\"function\"},{\"inputs\":[{\"internalType\":\"uint256\",\"name\":\"amountOut\",\"type\":\"uint256\"},{\"internalType\":\"uint256\",\"name\":\"amountInMax\",\"type\":\"uint256\"},{\"internalType\":\"address[]\",\"name\":\"path\",\"type\":\"address[]\"},{\"internalType\":\"address\",\"name\":\"to\",\"type\":\"address\"},{\"internalType\":\"uint256\",\"name\":\"deadline\",\"type\":\"uint256\"}],\"name\":\"swapTokensForExactETH\",\"outputs\":[{\"internalType\":\"uint256[]\",\"name\":\"amounts\",\"type\":\"uint256[]\"}],\"stateMutability\":\"nonpayable\",\"type\":\"function\"},{\"inputs\":[{\"internalType\":\"uint256\",\"name\":\"amountOut\",\"type\":\"uint256\"},{\"internalType\":\"uint256\",\"name\":\"amountInMax\",\"type\":\"uint256\"},{\"internalType\":\"address[]\",\"name\":\"path\",\"type\":\"address[]\"},{\"internalType\":\"address\",\"name\":\"to\",\"type\":\"address\"},{\"internalType\":\"uint256\",\"name\":\"deadline\",\"type\":\"uint256\"}],\"name\":\"swapTokensForExactTokens\",\"outputs\":[{\"internalType\":\"uint256[]\",\"name\":\"amounts\",\"type\":\"uint256[]\"}],\"stateMutability\":\"nonpayable\",\"type\":\"function\"},{\"stateMutability\":\"payable\",\"type\":\"receive\"}]\n",
    "\n",
    "v2_router_contract = w3.eth.contract(address=Web3.to_checksum_address(v2_router_address),abi=v2_router_abi)"
   ]
  },
  {
   "attachments": {
    "image.png": {
     "image/png": "[encoded data removed]"
    }
   },
   "cell_type": "markdown",
   "id": "4b6bc05b",
   "metadata": {},
   "source": [
    "![image.png](attachment:image.png)"
   ]
  },
  {
   "cell_type": "code",
   "execution_count": 149,
   "id": "ca1bfcdc",
   "metadata": {},
   "outputs": [
    {
     "name": "stdout",
     "output_type": "stream",
     "text": [
      "0.082266666666666666\n"
     ]
    }
   ],
   "source": [
    "sushi_address = \"0x3c9F4EEa18B02ee331218646Fea59EE3661d2A61\" # this has 18 decimals\n",
    "usdc_address = \"0x52D800ca262522580CeBAD275395ca6e7598C014\" # this has 6 decimals\n",
    "\n",
    "amount_in = w3.to_wei(\"1.234\", \"ether\")\n",
    "reserve_a = w3.to_wei(\"300\", \"ether\")\n",
    "reserve_b = w3.to_wei(\"20\", \"ether\")\n",
    "\n",
    "amount_out = v2_router_contract.functions.quote(amount_in, reserve_a, reserve_b).call()\n",
    "print(w3.from_wei(amount_out, \"ether\"))"
   ]
  },
  {
   "cell_type": "code",
   "execution_count": 150,
   "id": "60bd85ef",
   "metadata": {},
   "outputs": [
    {
     "name": "stdout",
     "output_type": "stream",
     "text": [
      "Transfer of 5.560316648978144248 WETH from 0xc3Db44ADC1fCdFd5671f555236eae49f4A8EEa18 to 0x68d3A973E7272EB388022a5C6518d9b2a2e66fBf\n",
      "Transfer of 40.758919666767231965 WETH from 0x88e6A0c2dDD26FEEb64F039a2c41296FcB3f5640 to 0x6F1cDbBb4d53d226CF4B917bF768B94acbAB6168\n",
      "Transfer of 0.263431188103602901 WETH from 0xB048E079F669dc5110E2662d18B3ffc69fd8a803 to 0x3A10dC1A145dA500d5Fba38b9EC49C8ff11a981F\n",
      "Transfer of 9.897427594771007743 WETH from 0xc7bBeC68d12a0d1830360F8Ec58fA599bA1b0e9b to 0x6F1cDbBb4d53d226CF4B917bF768B94acbAB6168\n",
      "Transfer of 0.2997 WETH from 0x7D0CcAa3Fac1e5A943c5168b6CEd828691b46B36 to 0xE0554a476A092703abdB3Ef35c80e0D76d32939F\n",
      "Transfer of 9.213002651132744582 WETH from 0xE0554a476A092703abdB3Ef35c80e0D76d32939F to 0x6F1cDbBb4d53d226CF4B917bF768B94acbAB6168\n",
      "Transfer of 0.007908547061858374 WETH from 0x3328F7f4A1D1C57c35df56bBf0c9dCAFCA309C49 to 0x82AC7c7F798253225E345e4F59D103176eE46983\n",
      "Transfer of 0.007968319498489569 WETH from 0x3328F7f4A1D1C57c35df56bBf0c9dCAFCA309C49 to 0x82AC7c7F798253225E345e4F59D103176eE46983\n",
      "Transfer of 0.008028771797126574 WETH from 0x3328F7f4A1D1C57c35df56bBf0c9dCAFCA309C49 to 0x82AC7c7F798253225E345e4F59D103176eE46983\n",
      "Transfer of 0.008089914304867505 WETH from 0x3328F7f4A1D1C57c35df56bBf0c9dCAFCA309C49 to 0x82AC7c7F798253225E345e4F59D103176eE46983\n",
      "Transfer of 0.008151757566377937 WETH from 0x3328F7f4A1D1C57c35df56bBf0c9dCAFCA309C49 to 0x82AC7c7F798253225E345e4F59D103176eE46983\n",
      "Transfer of 6.285042793302334306 WETH from 0xC2e9F25Be6257c210d7Adf0D4Cd6E3E881ba25f8 to 0x88B81BC7f6Dd4032eD626f452d66028eCD50E64a\n",
      "Transfer of 2.221618515855540224 WETH from 0x88B81BC7f6Dd4032eD626f452d66028eCD50E64a to 0x00000000009E50a7dDb7a7B0e2ee6604fd120E49\n",
      "Transfer of 2.167799998656282624 WETH from 0x00000000009E50a7dDb7a7B0e2ee6604fd120E49 to 0xDfDC4f225A18c62bfe63cec660C18479DD9e0A7B\n",
      "Transfer of 1 WETH from 0x3fC91A3afd70395Cd496C647d5a6CC9D4B2b7FAD to 0x6EF2445cE0aeF470c5aCe507516e50c0a77E3802\n",
      "Transfer of 0.202950534208466364 WETH from 0xcC6f7439147338E0401A76dB978d7d0ca6E5bfeE to 0x3fC91A3afd70395Cd496C647d5a6CC9D4B2b7FAD\n",
      "Transfer of 0.000507376335521165 WETH from 0x3fC91A3afd70395Cd496C647d5a6CC9D4B2b7FAD to 0x000000fee13a103A10D593b9AE06b3e05F2E7E1c\n",
      "Transfer of 0.166521061486999747 WETH from 0xB1BbeEa2dA2905E6B0A30203aEf55c399C53D042 to 0xD66B3887e3C234664AC70676FF033D4B444968A2\n",
      "Transfer of 1.6066E-14 WETH from 0x88d1fFB9F94Fc881ea0D83Dddcdb196EE9DA8739 to 0xdf7391A10F4d6D732B1b64a943e8804105dE2e83\n",
      "Transfer of 0 WETH from 0xdf7391A10F4d6D732B1b64a943e8804105dE2e83 to 0x037528457Cf5b0b9DAb641Fd7F0Ce8Fc9690318d\n",
      "Transfer of 0.041786433299754002 WETH from 0x96412687488c06b731b717816877E1CcFbe25c92 to 0x3451B6b219478037a1AC572706627FC2BDa1e812\n",
      "Transfer of 0.258541473616738362 WETH from 0x52d235EaB5a7A0b8b41b53B96873314AB084D0c1 to 0xE592427A0AEce92De3Edee1F18E0157C05861564\n",
      "Transfer of 0.258541473616738362 WETH from 0xE592427A0AEce92De3Edee1F18E0157C05861564 to 0x4e68Ccd3E89f51C3074ca5072bbAC773960dFa36\n",
      "Transfer of 0.579769624530034979 WETH from 0x0d4a11d5EEaaC28EC3F61d100daF4d40471f1852 to 0xdf4f3749bb4E96Bf91A67c7e873d9c04198d924A\n",
      "Transfer of 2.683855947765608129 WETH from 0x90908E414d3525E33733D320798B5681508255eA to 0xa7Ca2C8673bcFA5a26d8ceeC2887f2CC2b0Db22A\n",
      "Transfer of 0.018786991634359256 WETH from 0xa7Ca2C8673bcFA5a26d8ceeC2887f2CC2b0Db22A to 0x965dC72531BC322caB5537d432bB14451cAbb30d\n",
      "Transfer of 0.482317051113549504 WETH from 0xB0Ba33566bd35BcB80738810B2868DC1dDd1f0E9 to 0x69c66BeAfB06674Db41b22CFC50c34A93b8d82a2\n",
      "Transfer of 0.00821431232843461 WETH from 0x3328F7f4A1D1C57c35df56bBf0c9dCAFCA309C49 to 0x82AC7c7F798253225E345e4F59D103176eE46983\n",
      "Transfer of 1.7 WETH from 0x3fC91A3afd70395Cd496C647d5a6CC9D4B2b7FAD to 0x2aEEe741fa1e21120a21E57Db9ee545428E683C9\n",
      "Transfer of 0.6 WETH from 0xFe12d6a3168be617e1f70519A5b4da37ea638D3d to 0x7a250d5630B4cF539739dF2C5dAcb4c659F2488D\n",
      "Transfer of 2.03 WETH from 0xDa2467b48Ae28CD040Ae49Feb7846C856df63a49 to 0xBcc66Fc7402dAa98F5764057F95Ac66B9391cd6b\n",
      "Transfer of 2.030100125472161012 WETH from 0xBcc66Fc7402dAa98F5764057F95Ac66B9391cd6b to 0xA69babEF1cA67A37Ffaf7a485DfFF3382056e78C\n",
      "Transfer of 1.171677024822134061 WETH from 0xfbEedCFe378866DaB6abbaFd8B2986F5C1768737 to 0x5CEd44F03ff443BBE14d8eA23bc24425FB89E3ED\n",
      "Transfer of 1.066254156007254003 WETH from 0xfbEedCFe378866DaB6abbaFd8B2986F5C1768737 to 0x120FFad35bB97a5BaF9aB68f9Dd7667864530245\n",
      "Transfer of 0.177406644530228257 WETH from 0x80Ed1B41476B95Fb47830825B65fD3bf59F6a348 to 0x3fC91A3afd70395Cd496C647d5a6CC9D4B2b7FAD\n",
      "Transfer of 0.00044351661132557 WETH from 0x3fC91A3afd70395Cd496C647d5a6CC9D4B2b7FAD to 0x000000fee13a103A10D593b9AE06b3e05F2E7E1c\n",
      "Transfer of 3.810937999991579043 WETH from 0xcBcC3cBaD991eC59204be2963b4a87951E4d292B to 0xF3dE3C0d654FDa23daD170f0f320a92172509127\n",
      "Transfer of 0.011764202322143949 WETH from 0x3d7dC36aA2B542ad239012730DFdB23F03D75bE9 to 0x5c7BCd6E7De5423a257D81B442095A1a6ced35C5\n",
      "Transfer of 14.495903534115101893 WETH from 0x4585FE77225b41b697C938B018E2Ac67Ac5a20c0 to 0x51C72848c68a965f66FA7a88855F9f7784502a7F\n"
     ]
    }
   ],
   "source": [
    "# Get the RPC http endpoint from alchemy\n",
    "# provider_url = \"https://polygon.llamarpc.com\" public and free!\n",
    "provider_url = \"https://eth-mainnet.g.alchemy.com/v2/CIbzNnYgUgzchulujOTtzhVAdIdIG_n4\"\n",
    "\n",
    "w3 = Web3(Web3.HTTPProvider(provider_url))\n",
    "\n",
    "WETH_ADDRESS = '0xC02aaA39b223FE8D0A0e5C4F27eAD9083C756Cc2'\n",
    "WETH_ABI = '[{\"constant\":true,\"inputs\":[],\"name\":\"name\",\"outputs\":[{\"name\":\"\",\"type\":\"string\"}],\"payable\":false,\"stateMutability\":\"view\",\"type\":\"function\"},{\"constant\":false,\"inputs\":[{\"name\":\"guy\",\"type\":\"address\"},{\"name\":\"wad\",\"type\":\"uint256\"}],\"name\":\"approve\",\"outputs\":[{\"name\":\"\",\"type\":\"bool\"}],\"payable\":false,\"stateMutability\":\"nonpayable\",\"type\":\"function\"},{\"constant\":true,\"inputs\":[],\"name\":\"totalSupply\",\"outputs\":[{\"name\":\"\",\"type\":\"uint256\"}],\"payable\":false,\"stateMutability\":\"view\",\"type\":\"function\"},{\"constant\":false,\"inputs\":[{\"name\":\"src\",\"type\":\"address\"},{\"name\":\"dst\",\"type\":\"address\"},{\"name\":\"wad\",\"type\":\"uint256\"}],\"name\":\"transferFrom\",\"outputs\":[{\"name\":\"\",\"type\":\"bool\"}],\"payable\":false,\"stateMutability\":\"nonpayable\",\"type\":\"function\"},{\"constant\":false,\"inputs\":[{\"name\":\"wad\",\"type\":\"uint256\"}],\"name\":\"withdraw\",\"outputs\":[],\"payable\":false,\"stateMutability\":\"nonpayable\",\"type\":\"function\"},{\"constant\":true,\"inputs\":[],\"name\":\"decimals\",\"outputs\":[{\"name\":\"\",\"type\":\"uint8\"}],\"payable\":false,\"stateMutability\":\"view\",\"type\":\"function\"},{\"constant\":true,\"inputs\":[{\"name\":\"\",\"type\":\"address\"}],\"name\":\"balanceOf\",\"outputs\":[{\"name\":\"\",\"type\":\"uint256\"}],\"payable\":false,\"stateMutability\":\"view\",\"type\":\"function\"},{\"constant\":true,\"inputs\":[],\"name\":\"symbol\",\"outputs\":[{\"name\":\"\",\"type\":\"string\"}],\"payable\":false,\"stateMutability\":\"view\",\"type\":\"function\"},{\"constant\":false,\"inputs\":[{\"name\":\"dst\",\"type\":\"address\"},{\"name\":\"wad\",\"type\":\"uint256\"}],\"name\":\"transfer\",\"outputs\":[{\"name\":\"\",\"type\":\"bool\"}],\"payable\":false,\"stateMutability\":\"nonpayable\",\"type\":\"function\"},{\"constant\":false,\"inputs\":[],\"name\":\"deposit\",\"outputs\":[],\"payable\":true,\"stateMutability\":\"payable\",\"type\":\"function\"},{\"constant\":true,\"inputs\":[{\"name\":\"\",\"type\":\"address\"},{\"name\":\"\",\"type\":\"address\"}],\"name\":\"allowance\",\"outputs\":[{\"name\":\"\",\"type\":\"uint256\"}],\"payable\":false,\"stateMutability\":\"view\",\"type\":\"function\"},{\"payable\":true,\"stateMutability\":\"payable\",\"type\":\"fallback\"},{\"anonymous\":false,\"inputs\":[{\"indexed\":true,\"name\":\"src\",\"type\":\"address\"},{\"indexed\":true,\"name\":\"guy\",\"type\":\"address\"},{\"indexed\":false,\"name\":\"wad\",\"type\":\"uint256\"}],\"name\":\"Approval\",\"type\":\"event\"},{\"anonymous\":false,\"inputs\":[{\"indexed\":true,\"name\":\"src\",\"type\":\"address\"},{\"indexed\":true,\"name\":\"dst\",\"type\":\"address\"},{\"indexed\":false,\"name\":\"wad\",\"type\":\"uint256\"}],\"name\":\"Transfer\",\"type\":\"event\"},{\"anonymous\":false,\"inputs\":[{\"indexed\":true,\"name\":\"dst\",\"type\":\"address\"},{\"indexed\":false,\"name\":\"wad\",\"type\":\"uint256\"}],\"name\":\"Deposit\",\"type\":\"event\"},{\"anonymous\":false,\"inputs\":[{\"indexed\":true,\"name\":\"src\",\"type\":\"address\"},{\"indexed\":false,\"name\":\"wad\",\"type\":\"uint256\"}],\"name\":\"Withdrawal\",\"type\":\"event\"}]'\n",
    "\n",
    "weth_contract = w3.eth.contract(address=WETH_ADDRESS, abi=WETH_ABI)\n",
    "\n",
    "# fetch transfer events in the last block\n",
    "logs = weth_contract.events.Transfer().get_logs(from_block=w3.eth.block_number)\n",
    "\n",
    "for log in logs:\n",
    "   print(f\"Transfer of {w3.from_wei(log.args.wad, 'ether')} WETH from {log.args.src} to {log.args.dst}\")\n"
   ]
  }
 ],
 "metadata": {
  "kernelspec": {
   "display_name": "env",
   "language": "python",
   "name": "python3"
  },
  "language_info": {
   "codemirror_mode": {
    "name": "ipython",
    "version": 3
   },
   "file_extension": ".py",
   "mimetype": "text/x-python",
   "name": "python",
   "nbconvert_exporter": "python",
   "pygments_lexer": "ipython3",
   "version": "3.10.12"
  }
 },
 "nbformat": 4,
 "nbformat_minor": 5
}
