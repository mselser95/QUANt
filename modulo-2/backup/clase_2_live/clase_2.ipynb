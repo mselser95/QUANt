{
 "cells": [
  {
   "cell_type": "code",
   "execution_count": 1,
   "metadata": {},
   "outputs": [],
   "source": [
    "from web3 import Web3\n",
    "from web3.contract.contract import Contract\n",
    "import json\n",
    "\n",
    "provider_url = \"wss://polygon-mainnet.g.alchemy.com/v2/sExjDUrCgYRxg1GbFGTBogbdSQtT5d3M\"\n",
    "\n",
    "w3 = Web3(Web3.WebsocketProvider(provider_url))"
   ]
  },
  {
   "cell_type": "code",
   "execution_count": 2,
   "metadata": {},
   "outputs": [],
   "source": [
    "class Token:\n",
    "    def __init__(self, address: str, decimals: int, name: str) -> None:\n",
    "        self.address = address\n",
    "        self.decimals = decimals\n",
    "        self.name = name\n",
    "    \n",
    "    def get_token_amount(self, amount:int) -> int:\n",
    "        return amount * 10 ** self.decimals"
   ]
  },
  {
   "cell_type": "code",
   "execution_count": 9,
   "metadata": {},
   "outputs": [],
   "source": [
    "usdc_token = Token(\n",
    "    address = \"0x2791Bca1f2de4661ED88A30C99A7a9449Aa84174\",\n",
    "    decimals = 6,\n",
    "    name = \"USDC\"\n",
    ")\n",
    "\n",
    "weth_token = Token(\n",
    "    address = \"0x7ceB23fD6bC0adD59E62ac25578270cFf1b9f619\",\n",
    "    decimals = 18,\n",
    "    name = \"wETH\"\n",
    ")"
   ]
  },
  {
   "cell_type": "code",
   "execution_count": 3,
   "metadata": {},
   "outputs": [],
   "source": [
    "class MarketInterface:\n",
    "    def __init__(self) -> None:\n",
    "        pass\n",
    "\n",
    "    def get_output_amount(self, input_amount:int, input_token: Token, output_token: Token) -> float:\n",
    "        raise NotImplemented\n",
    "\n",
    "    def swap(self, input_token: Token, output_token: Token) -> bool:\n",
    "        raise NotImplemented\n",
    "\n",
    "    def get_current_price(self, input_token: Token, output_token: Token) -> float:\n",
    "        raise NotImplemented"
   ]
  },
  {
   "cell_type": "code",
   "execution_count": 45,
   "metadata": {},
   "outputs": [],
   "source": [
    "class UNIV2Exchange(MarketInterface):\n",
    "\n",
    "    def __init__(\n",
    "        self,\n",
    "        factory_address: str,\n",
    "        factory_abi: list,\n",
    "        router_address: str,\n",
    "        router_abi: list,\n",
    "        pair_abi: list,\n",
    "         ):\n",
    "        super().__init__()\n",
    "        self.router_contract: Contract = w3.eth.contract(address=router_address, abi=router_abi)\n",
    "        self.factory_contract: Contract = w3.eth.contract(address=factory_address, abi=factory_abi)\n",
    "        self.pair_abi = pair_abi\n",
    "\n",
    "\n",
    "    def get_output_amount(self, input_amount:int, input_token: Token, output_token: Token) -> float:\n",
    "        #function getAmountsOut(uint amountIn, address[] memory path) public view returns (uint[] memory amounts);\n",
    "        hex_address = [\n",
    "            w3.to_checksum_address(input_token.address),\n",
    "            w3.to_checksum_address(output_token.address),\n",
    "        ]\n",
    "        amounts_out = self.router_contract.functions.getAmountsOut(input_amount, hex_address).call()\n",
    "        return amounts_out[-1] / (10 ** output_token.decimals)\n",
    "\n",
    "\n",
    "    def swap(self, input_token: Token, output_token: Token) -> bool:\n",
    "        pass\n",
    "\n",
    "    def get_current_price(self, base_token: Token, quote_token: Token) -> float:\n",
    "        # Precio = Reservas del base token / Reservas del quote token\n",
    "        # Pools UNIV2 (AMM de producto constante)\n",
    "\n",
    "        #function getPair(address tokenA, address tokenB) external view returns (address pair);\n",
    "        pair_address = self.factory_contract.functions.getPair(base_token.address, quote_token.address).call()\n",
    "        pair_contract = w3.eth.contract(address=pair_address, abi=self.pair_abi)\n",
    "\n",
    "        # function token0() external view returns (address);\n",
    "        token0_address = pair_contract.functions.token0().call()\n",
    "        # function token1() external view returns (address);\n",
    "        token1_address = pair_contract.functions.token1().call()\n",
    "        # function getReserves() external view returns (uint112 reserve0, uint112 reserve1, uint32 blockTimestampLast);\n",
    "\n",
    "        reserves = pair_contract.functions.getReserves().call()\n",
    "        token_0_reserves = reserves[0]\n",
    "        token_1_reserves = reserves[1]\n",
    "        \n",
    "        if token0_address == base_token.address:\n",
    "            base_token_reserves = token_0_reserves / 10 ** base_token.decimals\n",
    "            quote_token_reserves = token_1_reserves / 10 ** quote_token.decimals\n",
    "        else:\n",
    "            base_token_reserves = token_1_reserves / 10 ** base_token.decimals\n",
    "            quote_token_reserves = token_0_reserves / 10 ** quote_token.decimals\n",
    "            \n",
    "        return base_token_reserves / quote_token_reserves"
   ]
  },
  {
   "cell_type": "code",
   "execution_count": 46,
   "metadata": {},
   "outputs": [
    {
     "name": "stdout",
     "output_type": "stream",
     "text": [
      "Sushiswap get_amount_out: 1784.011527\n",
      "Sushiswap get_price: 1798.127233480204\n"
     ]
    }
   ],
   "source": [
    "sushi_exchange = UNIV2Exchange(\n",
    "    factory_address = \"0xc35DADB65012eC5796536bD9864eD8773aBc74C4\",\n",
    "    factory_abi = json.load(open(\"factory_abi.json\")),\n",
    "    router_abi = json.load(open(\"router_abi.json\")),\n",
    "    router_address=\"0x1b02dA8Cb0d097eB8D57A175b88c7D8b47997506\",\n",
    "    pair_abi = json.load(open(\"pair_abi.json\"))\n",
    ")\n",
    "\n",
    "\n",
    "print(f\"Sushiswap get_amount_out: {sushi_exchange.get_output_amount(weth_token.get_token_amount(1), weth_token, usdc_token)}\")\n",
    "print(f\"Sushiswap get_price: {sushi_exchange.get_current_price(usdc_token, weth_token)}\")"
   ]
  },
  {
   "cell_type": "code",
   "execution_count": 49,
   "metadata": {},
   "outputs": [
    {
     "name": "stdout",
     "output_type": "stream",
     "text": [
      "Quickswap get_amount_out: 1790.865881\n",
      "Quickswap get_price: 1799.4598503387529\n"
     ]
    }
   ],
   "source": [
    "quickswap_exchange = UNIV2Exchange(\n",
    "    factory_address = \"0x5757371414417b8C6CAad45bAeF941aBc7d3Ab32\",\n",
    "    factory_abi = json.load(open(\"factory_abi.json\")),\n",
    "    router_abi = json.load(open(\"router_abi.json\")),\n",
    "    router_address=\"0xa5E0829CaCEd8fFDD4De3c43696c57F7D7A678ff\",\n",
    "    pair_abi = json.load(open(\"pair_abi.json\"))\n",
    ")\n",
    "\n",
    "\n",
    "print(f\"Quickswap get_amount_out: {quickswap_exchange.get_output_amount(weth_token.get_token_amount(1), weth_token, usdc_token)}\")\n",
    "print(f\"Quickswap get_price: {quickswap_exchange.get_current_price(usdc_token, weth_token)}\")"
   ]
  },
  {
   "cell_type": "code",
   "execution_count": 51,
   "metadata": {},
   "outputs": [
    {
     "name": "stdout",
     "output_type": "stream",
     "text": [
      "Sushiswap get_price: 1798.127233480204\n",
      "Quickswap get_price: 1799.4598503387529\n"
     ]
    }
   ],
   "source": [
    "print(f\"Sushiswap get_price: {sushi_exchange.get_current_price(usdc_token, weth_token)}\")\n",
    "print(f\"Quickswap get_price: {quickswap_exchange.get_current_price(usdc_token, weth_token)}\")"
   ]
  },
  {
   "cell_type": "code",
   "execution_count": 58,
   "metadata": {},
   "outputs": [
    {
     "name": "stdout",
     "output_type": "stream",
     "text": [
      "Initial input: 1000000000000000000, final output: 0.9871510958865878\n",
      "Initial input: 1000000000000000000, final output: 0.9871510958865878\n",
      "Initial input: 1000000000000000000, final output: 0.9871510958865878\n",
      "Initial input: 1000000000000000000, final output: 0.9871510958865878\n",
      "Initial input: 1000000000000000000, final output: 0.9871510958865878\n",
      "Initial input: 1000000000000000000, final output: 0.9871510958865878\n",
      "Initial input: 1000000000000000000, final output: 0.9871510958865878\n",
      "Initial input: 1000000000000000000, final output: 0.9871510958865878\n",
      "Initial input: 1000000000000000000, final output: 0.9871510958865878\n",
      "Initial input: 1000000000000000000, final output: 0.9871510958865878\n",
      "Initial input: 1000000000000000000, final output: 0.9871510958865878\n",
      "Initial input: 1000000000000000000, final output: 0.9871510958865878\n",
      "Initial input: 1000000000000000000, final output: 0.9871510958865878\n",
      "Initial input: 1000000000000000000, final output: 0.9871510958865878\n",
      "Initial input: 1000000000000000000, final output: 0.9871510958865878\n",
      "Initial input: 1000000000000000000, final output: 0.9871510958865878\n",
      "Initial input: 1000000000000000000, final output: 0.9871510958865878\n",
      "Initial input: 1000000000000000000, final output: 0.9871510958865878\n",
      "Initial input: 1000000000000000000, final output: 0.9871510958865878\n",
      "Initial input: 1000000000000000000, final output: 0.9871510958865878\n",
      "Initial input: 1000000000000000000, final output: 0.9871510958865878\n",
      "Initial input: 1000000000000000000, final output: 0.9871510958865878\n",
      "Initial input: 1000000000000000000, final output: 0.9871510958865878\n",
      "Initial input: 1000000000000000000, final output: 0.9871510958865878\n",
      "Initial input: 1000000000000000000, final output: 0.9871510958865878\n",
      "Initial input: 1000000000000000000, final output: 0.9871510958865878\n",
      "Initial input: 1000000000000000000, final output: 0.9871510958865878\n"
     ]
    },
    {
     "ename": "KeyboardInterrupt",
     "evalue": "",
     "output_type": "error",
     "traceback": [
      "\u001b[0;31m---------------------------------------------------------------------------\u001b[0m",
      "\u001b[0;31mKeyboardInterrupt\u001b[0m                         Traceback (most recent call last)",
      "\u001b[0;32m/tmp/ipykernel_11372/481196063.py\u001b[0m in \u001b[0;36m<module>\u001b[0;34m\u001b[0m\n\u001b[1;32m      6\u001b[0m     \u001b[0mprint\u001b[0m\u001b[0;34m(\u001b[0m\u001b[0;34mf\"Initial input: {amount_in}, final output: {amount_out}\"\u001b[0m\u001b[0;34m)\u001b[0m\u001b[0;34m\u001b[0m\u001b[0;34m\u001b[0m\u001b[0m\n\u001b[1;32m      7\u001b[0m \u001b[0;34m\u001b[0m\u001b[0m\n\u001b[0;32m----> 8\u001b[0;31m     \u001b[0mtime\u001b[0m\u001b[0;34m.\u001b[0m\u001b[0msleep\u001b[0m\u001b[0;34m(\u001b[0m\u001b[0;36m1\u001b[0m\u001b[0;34m)\u001b[0m\u001b[0;34m\u001b[0m\u001b[0;34m\u001b[0m\u001b[0m\n\u001b[0m",
      "\u001b[0;31mKeyboardInterrupt\u001b[0m: "
     ]
    }
   ],
   "source": [
    "import time\n",
    "while True:\n",
    "    amount_in = weth_token.get_token_amount(1)\n",
    "    prev_amount_out = sushi_exchange.get_output_amount(amount_in, weth_token, usdc_token)\n",
    "    amount_out = quickswap_exchange.get_output_amount(int(usdc_token.get_token_amount(prev_amount_out)), usdc_token, weth_token)\n",
    "    print(f\"Initial input: {amount_in}, final output: {amount_out}\")\n",
    "\n",
    "    time.sleep(1)"
   ]
  },
  {
   "cell_type": "code",
   "execution_count": 60,
   "metadata": {},
   "outputs": [
    {
     "name": "stdout",
     "output_type": "stream",
     "text": [
      "{'lastUpdateId': 277937432, 'bids': [['1790.68000000', '0.04450000'], ['1790.67000000', '2.74050000'], ['1789.39000000', '0.00560000'], ['1786.14000000', '0.01850000'], ['1780.00000000', '0.03500000']], 'asks': [['1815.24000000', '0.04000000'], ['1815.25000000', '0.64680000'], ['1818.36000000', '0.01830000'], ['1825.58000000', '0.00560000'], ['1827.41000000', '0.01820000']]}\n"
     ]
    }
   ],
   "source": [
    "import requests\n",
    "import json\n",
    "\n",
    "binance_api_url = \"https://api.binance.us\"\n",
    "\n",
    "uri = \"/api/v3/depth\"\n",
    "\n",
    "response = requests.get(binance_api_url + uri , {\n",
    "    \"symbol\":\"ETHUSDC\",\n",
    "    \"limit\":5\n",
    "})\n",
    "\n",
    "if response.status_code == 200:\n",
    "    data = response.json()\n",
    "    print(data)"
   ]
  },
  {
   "cell_type": "code",
   "execution_count": 61,
   "metadata": {},
   "outputs": [
    {
     "name": "stdout",
     "output_type": "stream",
     "text": [
      "{'mins': 5, 'price': '1816.65000000'}\n"
     ]
    }
   ],
   "source": [
    "uri = \"/api/v3/avgPrice\"\n",
    "\n",
    "response = requests.get(binance_api_url + uri , {\n",
    "    \"symbol\":\"ETHUSDC\",\n",
    "})\n",
    "\n",
    "if response.status_code == 200:\n",
    "    data = response.json()\n",
    "    print(data)"
   ]
  },
  {
   "cell_type": "code",
   "execution_count": 64,
   "metadata": {},
   "outputs": [
    {
     "name": "stdout",
     "output_type": "stream",
     "text": [
      "5e93fda387a7edeb4e612e9adb477cd96e5a2b78be0d2fd6e0142a76c3ff7581\n"
     ]
    }
   ],
   "source": [
    "import time\n",
    "import hmac\n",
    "import hashlib\n",
    "\n",
    "# Set up authentication\n",
    "API_KEY=\"vmPUZE6mv9SD5VNHk4HlWFsOr6aKE2zvsw0MuIgwCIPy6utIco14y7Ju91duEh8A\"\n",
    "PRIVATE_KEY=\"NhqPtmdSJYdKjVHjA7PZj4Mge3R5YNiP1e3UZjInClVN65XAbvqqM6A7H5fATj0j\"\n",
    "\n",
    "params = {\n",
    "    \"symbol\" : \"LTCBTC\",\n",
    "    'side':         'BUY',\n",
    "    'type':         'LIMIT',\n",
    "    'timeInForce':  'GTC',\n",
    "    'quantity':     '1',\n",
    "    'price':        '0.1',\n",
    "    'recvWindow':   '5000',\n",
    "    'timestamp':    '1499827319559'\n",
    "}\n",
    "\n",
    "#timestamp = int(time.time() * 1000) # Timestamp en milliseconds\n",
    "#params[\"timestamp\"] = timestamp\n",
    "\n",
    "payload = '&'.join([f\"{key}={value}\" for key, value in params.items()])\n",
    "\n",
    "signature = hmac.new(\n",
    "    bytes(PRIVATE_KEY, 'latin-1'),\n",
    "    msg = bytes(payload, 'latin-1'),\n",
    "    digestmod = hashlib.sha256\n",
    ").hexdigest()\n",
    "\n",
    "params[\"signature\"] = signature\n",
    "\n",
    "headers = {\n",
    "    \"X-MBX-APIKEY\" : API_KEY\n",
    "}\n",
    "\n",
    "response = requests.post(binance_api_url + \"/api/v3/order\", headers = headers, params = params)"
   ]
  },
  {
   "cell_type": "code",
   "execution_count": 65,
   "metadata": {},
   "outputs": [],
   "source": [
    "#%pip install ccxt"
   ]
  },
  {
   "cell_type": "code",
   "execution_count": 66,
   "metadata": {},
   "outputs": [],
   "source": [
    "import ccxt\n",
    "\n",
    "binance_us_exchange = ccxt.binanceus()"
   ]
  },
  {
   "cell_type": "code",
   "execution_count": 67,
   "metadata": {},
   "outputs": [
    {
     "data": {
      "text/plain": [
       "{'symbol': 'ETH/USDC',\n",
       " 'timestamp': 1698970243376,\n",
       " 'datetime': '2023-11-03T00:10:43.376Z',\n",
       " 'high': 1875.0,\n",
       " 'low': 1786.14,\n",
       " 'bid': 1791.5,\n",
       " 'bidVolume': 0.0444,\n",
       " 'ask': 1814.17,\n",
       " 'askVolume': 0.0836,\n",
       " 'vwap': 1848.92244336,\n",
       " 'open': 1859.85,\n",
       " 'close': 1814.54,\n",
       " 'last': 1814.54,\n",
       " 'previousClose': 1846.0,\n",
       " 'change': -45.31,\n",
       " 'percentage': -2.436,\n",
       " 'average': 1837.195,\n",
       " 'baseVolume': 13.1757,\n",
       " 'quoteVolume': 24360.847437,\n",
       " 'info': {'symbol': 'ETHUSDC',\n",
       "  'priceChange': '-45.31000000',\n",
       "  'priceChangePercent': '-2.436',\n",
       "  'weightedAvgPrice': '1848.92244336',\n",
       "  'prevClosePrice': '1846.00000000',\n",
       "  'lastPrice': '1814.54000000',\n",
       "  'lastQty': '0.00550000',\n",
       "  'bidPrice': '1791.50000000',\n",
       "  'bidQty': '0.04440000',\n",
       "  'askPrice': '1814.17000000',\n",
       "  'askQty': '0.08360000',\n",
       "  'openPrice': '1859.85000000',\n",
       "  'highPrice': '1875.00000000',\n",
       "  'lowPrice': '1786.14000000',\n",
       "  'volume': '13.17570000',\n",
       "  'quoteVolume': '24360.84743700',\n",
       "  'openTime': '1698883843376',\n",
       "  'closeTime': '1698970243376',\n",
       "  'firstId': '892279',\n",
       "  'lastId': '892411',\n",
       "  'count': '133'}}"
      ]
     },
     "execution_count": 67,
     "metadata": {},
     "output_type": "execute_result"
    }
   ],
   "source": [
    "binance_us_exchange.fetch_ticker(\"ETH/USDC\")"
   ]
  },
  {
   "cell_type": "code",
   "execution_count": 68,
   "metadata": {},
   "outputs": [
    {
     "data": {
      "text/plain": [
       "{'symbol': 'ETH/USDC',\n",
       " 'bids': [[1791.55, 0.0428],\n",
       "  [1791.53, 2.9395],\n",
       "  [1789.39, 0.0056],\n",
       "  [1786.14, 0.0185],\n",
       "  [1780.0, 0.035]],\n",
       " 'asks': [[1814.12, 0.0925],\n",
       "  [1814.14, 2.4367],\n",
       "  [1818.36, 0.0183],\n",
       "  [1825.58, 0.0056],\n",
       "  [1827.41, 0.0182]],\n",
       " 'timestamp': None,\n",
       " 'datetime': None,\n",
       " 'nonce': 277938019}"
      ]
     },
     "execution_count": 68,
     "metadata": {},
     "output_type": "execute_result"
    }
   ],
   "source": [
    "binance_us_exchange.fetch_order_book(\"ETH/USDC\", 5)"
   ]
  },
  {
   "cell_type": "code",
   "execution_count": 70,
   "metadata": {},
   "outputs": [
    {
     "name": "stdout",
     "output_type": "stream",
     "text": [
      "[[1698970500000, 1814.54, 1814.54, 1814.54, 1814.54, 0.0]]\n"
     ]
    },
    {
     "ename": "KeyboardInterrupt",
     "evalue": "",
     "output_type": "error",
     "traceback": [
      "\u001b[0;31m---------------------------------------------------------------------------\u001b[0m",
      "\u001b[0;31mKeyboardInterrupt\u001b[0m                         Traceback (most recent call last)",
      "\u001b[0;32m/tmp/ipykernel_11372/25537206.py\u001b[0m in \u001b[0;36m<module>\u001b[0;34m\u001b[0m\n\u001b[1;32m     20\u001b[0m \u001b[0;34m\u001b[0m\u001b[0m\n\u001b[1;32m     21\u001b[0m \u001b[0;34m\u001b[0m\u001b[0m\n\u001b[0;32m---> 22\u001b[0;31m     \u001b[0mtime\u001b[0m\u001b[0;34m.\u001b[0m\u001b[0msleep\u001b[0m\u001b[0;34m(\u001b[0m\u001b[0;36m60\u001b[0m \u001b[0;34m-\u001b[0m \u001b[0;34m(\u001b[0m\u001b[0mtime\u001b[0m\u001b[0;34m.\u001b[0m\u001b[0mtime\u001b[0m\u001b[0;34m(\u001b[0m\u001b[0;34m)\u001b[0m \u001b[0;34m-\u001b[0m \u001b[0mstart_time\u001b[0m\u001b[0;34m)\u001b[0m \u001b[0;34m%\u001b[0m \u001b[0;36m60\u001b[0m\u001b[0;34m)\u001b[0m\u001b[0;34m\u001b[0m\u001b[0;34m\u001b[0m\u001b[0m\n\u001b[0m\u001b[1;32m     23\u001b[0m \u001b[0;34m\u001b[0m\u001b[0m\n\u001b[1;32m     24\u001b[0m \u001b[0;34m\u001b[0m\u001b[0m\n",
      "\u001b[0;31mKeyboardInterrupt\u001b[0m: "
     ]
    }
   ],
   "source": [
    "symbol = [\"ETH/USDC\"]\n",
    "\n",
    "window_short = 1\n",
    "window_long = 2\n",
    "\n",
    "candles = []\n",
    "long = False\n",
    "\n",
    "markets = [binance_us_exchange, ...]\n",
    "\n",
    "import time\n",
    "\n",
    "while True:\n",
    "\n",
    "    start_time = time.time()\n",
    "\n",
    "    vela = [market.fetch_ohlcv(symbol, \"1m\", params={\n",
    "        \"limit\":1\n",
    "    })[0] for market in markets]\n",
    "\n",
    "    candles.append(vela[4]) # Me quedo con el precio de cierre\n",
    "\n",
    "    short_ma = sum(candles[-window_short:]) / len(candles[-window_short:])\n",
    "    long_ma = sum(candles[-window_long:]) / len(candles[-window_long:])\n",
    "\n",
    "    print(f\"short_ma: {short_ma}, long_ma: {long_ma}\")\n",
    "\n",
    "    candles = candles[-window_long:]\n",
    "\n",
    "    if not long:\n",
    "        if short_ma > long_ma:\n",
    "            print(\"compro\")\n",
    "            long = True\n",
    "    else:\n",
    "        if short_ma < long_ma:\n",
    "            print(\"vendo\")\n",
    "            long = False\n",
    "    time.sleep(60 - (time.time() - start_time) % 60)\n"
   ]
  },
  {
   "cell_type": "code",
   "execution_count": null,
   "metadata": {},
   "outputs": [],
   "source": []
  }
 ],
 "metadata": {
  "kernelspec": {
   "display_name": "Python 3",
   "language": "python",
   "name": "python3"
  },
  "language_info": {
   "codemirror_mode": {
    "name": "ipython",
    "version": 3
   },
   "file_extension": ".py",
   "mimetype": "text/x-python",
   "name": "python",
   "nbconvert_exporter": "python",
   "pygments_lexer": "ipython3",
   "version": "3.9.13"
  }
 },
 "nbformat": 4,
 "nbformat_minor": 2
}
