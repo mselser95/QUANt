{
 "cells": [
  {
   "cell_type": "code",
   "execution_count": null,
   "metadata": {},
   "outputs": [],
   "source": [
    "%pip install web3"
   ]
  },
  {
   "cell_type": "code",
   "execution_count": 19,
   "metadata": {},
   "outputs": [],
   "source": [
    "from web3 import Web3\n",
    "\n",
    "from web3.middleware import geth_poa_middleware"
   ]
  },
  {
   "cell_type": "code",
   "execution_count": 20,
   "metadata": {},
   "outputs": [],
   "source": [
    "provider_url = \"https://polygon-mumbai.g.alchemy.com/v2/jL3EhrckZEmoV8K0ZQUSiGRQ67PkOakn\"\n",
    "\n",
    "w3 = Web3(Web3.HTTPProvider(provider_url))\n",
    "w3.middleware_onion.inject(geth_poa_middleware, layer=0)"
   ]
  },
  {
   "cell_type": "markdown",
   "metadata": {},
   "source": [
    "# Methods\n",
    "\n",
    "## Get Current block\n",
    "\n",
    "### RPC Call"
   ]
  },
  {
   "cell_type": "code",
   "execution_count": 17,
   "metadata": {},
   "outputs": [
    {
     "name": "stdout",
     "output_type": "stream",
     "text": [
      "41877128\n"
     ]
    }
   ],
   "source": [
    "import json\n",
    "import requests\n",
    "\n",
    "# Create the RPC Requets dictionary\n",
    "rpc_request = {\n",
    "    \"jsonrpc\" : \"2.0\",\n",
    "    \"method\": \"eth_getBlockByNumber\",\n",
    "    \"params\" : [\"latest\", True],\n",
    "    \"id\": 1\n",
    "}\n",
    "\n",
    "response = requests.post(provider_url, data=json.dumps(rpc_request), headers = {'Content-Type': 'application/json'})\n",
    "\n",
    "if response.status_code == 200:\n",
    "    data = response.json()\n",
    "    result = data[\"result\"]\n",
    "    block_number = int(result[\"number\"],16)\n",
    "    print(block_number)\n",
    "else:\n",
    "    print(\"RPC Request failed\")"
   ]
  },
  {
   "cell_type": "markdown",
   "metadata": {},
   "source": [
    "### Web3"
   ]
  },
  {
   "cell_type": "code",
   "execution_count": 22,
   "metadata": {},
   "outputs": [
    {
     "name": "stdout",
     "output_type": "stream",
     "text": [
      "41877183\n"
     ]
    }
   ],
   "source": [
    "print(w3.eth.get_block(\"latest\")[\"number\"])"
   ]
  },
  {
   "cell_type": "markdown",
   "metadata": {},
   "source": [
    "## Get Balance"
   ]
  },
  {
   "cell_type": "code",
   "execution_count": 23,
   "metadata": {},
   "outputs": [],
   "source": [
    "wallet_address = \"0xe85fF1BcC7a461D4FE7Ef3a8623d7Eb6a9C0De00\"\n",
    "wallet_pk = \"73dcf70b9524d811bb01e7d5cd3cad19834b4d8675219660729aa9d872b94d16\""
   ]
  },
  {
   "cell_type": "code",
   "execution_count": 28,
   "metadata": {},
   "outputs": [
    {
     "name": "stdout",
     "output_type": "stream",
     "text": [
      "0.08442127635846584\n"
     ]
    }
   ],
   "source": [
    "rpc_request = {\n",
    "    \"jsonrpc\" : \"2.0\",\n",
    "    \"method\" : \"eth_getBalance\",\n",
    "    \"params\" : [wallet_address, \"latest\"],\n",
    "    \"id\": 1\n",
    "}\n",
    "\n",
    "response = requests.post(provider_url, data=json.dumps(rpc_request), headers = {'Content-Type': 'application/json'})\n",
    "\n",
    "if response.status_code == 200:\n",
    "    data = response.json()\n",
    "    balance_wei = int(data[\"result\"], 16)\n",
    "    print(balance_wei / 10**18)\n"
   ]
  },
  {
   "cell_type": "code",
   "execution_count": 33,
   "metadata": {},
   "outputs": [
    {
     "name": "stdout",
     "output_type": "stream",
     "text": [
      "0.08442127635846585\n"
     ]
    }
   ],
   "source": [
    "balance = w3.eth.get_balance(wallet_address)\n",
    "scaled_balance = w3.fromWei(balance, \"ether\")\n",
    "print(scaled_balance)"
   ]
  },
  {
   "cell_type": "code",
   "execution_count": 43,
   "metadata": {},
   "outputs": [
    {
     "name": "stdout",
     "output_type": "stream",
     "text": [
      "SignedTransaction(rawTransaction=HexBytes('0xf86e03850198b8cc9e8261a894c39f29a8766974577658dbf2d687d004ed4e9c1487045ff3a79390008083027126a0757d07ebcf003c79b093100532eba714b6654dad61057f2dbec3a8d1e9f4e7b2a036a7eabbc9c37a46f583d4d296843c600f6e01740a00a126e815a49292ad64e5'), hash=HexBytes('0x14f6f89b35310828e0fead8f6b0770f9fbbcbd37d1cc69e286994d084a9c3cc2'), r=53141513836951101350756599127327246103229278999521003754727970178613573380018, s=24721577354717736368703750517042241376976963299275050540223863130529523918053, v=160038)\n",
      "Balance of 0xe85fF1BcC7a461D4FE7Ef3a8623d7Eb6a9C0De00: 0.08283214959080385\n",
      "Balance of 0xc39f29A8766974577658DBF2D687d004Ed4E9c14: 0.001331400000126\n",
      "Transaction hash: 0x14f6f89b35310828e0fead8f6b0770f9fbbcbd37d1cc69e286994d084a9c3cc2\n",
      "Balance of 0xe85fF1BcC7a461D4FE7Ef3a8623d7Eb6a9C0De00: 0.08283214959080385\n",
      "Balance of 0xc39f29A8766974577658DBF2D687d004Ed4E9c14: 0.001331400000126\n"
     ]
    }
   ],
   "source": [
    "from web3.gas_strategies.time_based import fast_gas_price_strategy\n",
    "\n",
    "# Helper function\n",
    "def get_balance(address):\n",
    "    balance = w3.eth.get_balance(address)\n",
    "    scaled_balance = w3.fromWei(balance, \"ether\")\n",
    "    return scaled_balance\n",
    "\n",
    "recepient_address = \"0xc39f29A8766974577658DBF2D687d004Ed4E9c14\"\n",
    "\n",
    "amount_wei = w3.toWei(0.0012314, 'ether')\n",
    "\n",
    "nonce = w3.eth.get_transaction_count(wallet_address)\n",
    "\n",
    "w3.eth.setGasPriceStrategy(fast_gas_price_strategy)\n",
    "\n",
    "transaction = {\n",
    "    'to' : recepient_address,\n",
    "    'value' : amount_wei,\n",
    "    'gas' : 25000,\n",
    "    \"gasPrice\" : w3.eth.generateGasPrice(),\n",
    "    'nonce' : nonce,\n",
    "    'chainId' : w3.eth.chain_id,\n",
    "}\n",
    "\n",
    "from web3 import Account\n",
    "signed_transaction = Account.sign_transaction(transaction, wallet_pk)\n",
    "print(signed_transaction)\n",
    "\n",
    "\n",
    "# Check balance before\n",
    "print(f\"Balance of {wallet_address}: {get_balance(wallet_address)}\")\n",
    "print(f\"Balance of {recepient_address}: {get_balance(recepient_address)}\")\n",
    "\n",
    "transaction_hash = w3.eth.send_raw_transaction(signed_transaction.rawTransaction)\n",
    "print(f\"Transaction hash: {transaction_hash.hex()}\")\n",
    "\n",
    "\n",
    "# Check balance after\n",
    "print(f\"Balance of {wallet_address}: {get_balance(wallet_address)}\")\n",
    "print(f\"Balance of {recepient_address}: {get_balance(recepient_address)}\")\n"
   ]
  },
  {
   "cell_type": "code",
   "execution_count": 44,
   "metadata": {},
   "outputs": [
    {
     "name": "stdout",
     "output_type": "stream",
     "text": [
      "Waiting for transaction...\n",
      "Not Found!\n",
      "Waiting for transaction...\n",
      "Not Found!\n",
      "Waiting for transaction...\n",
      "Not Found!\n",
      "Waiting for transaction...\n",
      "Not Found!\n",
      "Waiting for transaction...\n",
      "Not Found!\n",
      "Waiting for transaction...\n",
      "Not Found!\n",
      "Waiting for transaction...\n",
      "Not Found!\n",
      "Waiting for transaction...\n",
      "Not Found!\n",
      "Waiting for transaction...\n",
      "Not Found!\n",
      "Waiting for transaction...\n",
      "Not Found!\n",
      "Waiting for transaction...\n",
      "Not Found!\n",
      "Waiting for transaction...\n",
      "Not Found!\n",
      "Waiting for transaction...\n",
      "Not Found!\n",
      "Waiting for transaction...\n",
      "Not Found!\n",
      "Waiting for transaction...\n",
      "Not Found!\n",
      "Waiting for transaction...\n",
      "Not Found!\n",
      "Waiting for transaction...\n",
      "Not Found!\n",
      "Waiting for transaction...\n",
      "Not Found!\n",
      "Waiting for transaction...\n",
      "Not Found!\n",
      "Waiting for transaction...\n",
      "Not Found!\n",
      "Waiting for transaction...\n",
      "Not Found!\n",
      "Waiting for transaction...\n",
      "Not Found!\n",
      "Waiting for transaction...\n",
      "Not Found!\n",
      "Waiting for transaction...\n",
      "AttributeDict({'blockHash': HexBytes('0x8500171a2d29c35b4e4b9ad354741e7ff994a4ea12095885fce2ddaeba9e4011'), 'blockNumber': 41877430, 'contractAddress': None, 'cumulativeGasUsed': 976549, 'effectiveGasPrice': 6857215134, 'from': '0xe85fF1BcC7a461D4FE7Ef3a8623d7Eb6a9C0De00', 'gasUsed': 21000, 'logs': [AttributeDict({'address': '0x0000000000000000000000000000000000001010', 'topics': [HexBytes('0xe6497e3ee548a3372136af2fcb0696db31fc6cf20260707645068bd3fe97f3c4'), HexBytes('0x0000000000000000000000000000000000000000000000000000000000001010'), HexBytes('0x000000000000000000000000e85ff1bcc7a461d4fe7ef3a8623d7eb6a9c0de00'), HexBytes('0x000000000000000000000000c39f29a8766974577658dbf2d687d004ed4e9c14')], 'data': '0x00000000000000000000000000000000000000000000000000045ff3a79390000000000000000000000000000000000000000000000000000125ab7c75895fda0000000000000000000000000000000000000000000000000004bae6b80fbc3000000000000000000000000000000000000000000000000001214b88cdf5cfda00000000000000000000000000000000000000000000000000091ada5fa34c30', 'blockNumber': 41877430, 'transactionHash': HexBytes('0x14f6f89b35310828e0fead8f6b0770f9fbbcbd37d1cc69e286994d084a9c3cc2'), 'transactionIndex': 20, 'blockHash': HexBytes('0x8500171a2d29c35b4e4b9ad354741e7ff994a4ea12095885fce2ddaeba9e4011'), 'logIndex': 36, 'removed': False}), AttributeDict({'address': '0x0000000000000000000000000000000000001010', 'topics': [HexBytes('0x4dfe1bbbcf077ddc3e01291eea2d5c70c2b422b415d95645b9adcfd678cb1d63'), HexBytes('0x0000000000000000000000000000000000000000000000000000000000001010'), HexBytes('0x000000000000000000000000e85ff1bcc7a461d4fe7ef3a8623d7eb6a9c0de00'), HexBytes('0x0000000000000000000000005082f249cdb2f2c1ee035e4f423c46ea2dab3ab1')], 'data': '0x000000000000000000000000000000000000000000000000000082f7f74c327800000000000000000000000000000000000000000000000001264766b457858a00000000000000000000000000000000000000000000033460f3603a95bc1c700000000000000000000000000000000000000000000000000125c46ebd0b531200000000000000000000000000000000000000000000033460f3e3328d084ee8', 'blockNumber': 41877430, 'transactionHash': HexBytes('0x14f6f89b35310828e0fead8f6b0770f9fbbcbd37d1cc69e286994d084a9c3cc2'), 'transactionIndex': 20, 'blockHash': HexBytes('0x8500171a2d29c35b4e4b9ad354741e7ff994a4ea12095885fce2ddaeba9e4011'), 'logIndex': 37, 'removed': False})], 'logsBloom': HexBytes('0x00000000000000000000000000000000000000000000000000000000020002000000000002000000000000100000000000008000000000000000000040000000000000000000000000000000000000800010000000000000000100000000000000000000000000000000000000000000000000000000000080000000000000000000000000000000000000000000000000000000000000000000000000000000200000000000000000000000000000000000000000000008000000100000004000000000000000000001000000000000000000000000800000108000000000000000000000000080000000000000000000200000000000000000000000100000'), 'status': 1, 'to': '0xc39f29A8766974577658DBF2D687d004Ed4E9c14', 'transactionHash': HexBytes('0x14f6f89b35310828e0fead8f6b0770f9fbbcbd37d1cc69e286994d084a9c3cc2'), 'transactionIndex': 20, 'type': '0x0'})\n"
     ]
    }
   ],
   "source": [
    "from web3.exceptions import TransactionNotFound\n",
    "import time\n",
    "\n",
    "#Wait for the transaction to be mined\n",
    "while True:\n",
    "    print(\"Waiting for transaction...\")\n",
    "    try:\n",
    "        transaction_receipt = w3.eth.get_transaction_receipt(transaction_hash)\n",
    "        if transaction_receipt is not None:\n",
    "            if transaction_receipt['status'] == 1:\n",
    "                print(transaction_receipt)\n",
    "            else:\n",
    "                print(\"Transaction failed.\")\n",
    "            break\n",
    "        # Wait for a few seconds before checking again\n",
    "    except TransactionNotFound:\n",
    "        print(\"Not Found!\")\n",
    "        time.sleep(0.25)"
   ]
  },
  {
   "cell_type": "code",
   "execution_count": 49,
   "metadata": {},
   "outputs": [
    {
     "name": "stdout",
     "output_type": "stream",
     "text": [
      "No fue un swap\n",
      "No fue un swap\n",
      "No fue un swap\n",
      "No fue un swap\n",
      "No fue un swap\n",
      "No fue un swap\n",
      "No fue un swap\n",
      "No fue un swap\n",
      "No fue un swap\n",
      "No fue un swap\n",
      "No fue un swap\n",
      "No fue un swap\n",
      "No fue un swap\n",
      "No fue un swap\n",
      "No fue un swap\n",
      "No fue un swap\n",
      "Fue un swap\n",
      "No fue un swap\n",
      "No fue un swap\n"
     ]
    }
   ],
   "source": [
    "import time\n",
    "\n",
    "# https://mumbai.polygonscan.com/tx/0xc2cc024f1a4fd9345b049ef2d93a866dd75bb6b85b6d319c1cec29455c78c5d0#eventlog\n",
    "event_signature_hash = Web3.keccak(text=\"Swap(address,address,int256,int256,uint160,uint128,int24)\").hex()\n",
    "\n",
    "\n",
    "block = w3.eth.get_block(41722857)\n",
    "\n",
    "for tx_hash in  block.transactions: \n",
    "    hex_transaction_hash = tx_hash.hex()\n",
    "    receipt = w3.eth.get_transaction_receipt(hex_transaction_hash)\n",
    "    for log in receipt.logs:\n",
    "        log_signature = log[\"topics\"][0].hex()\n",
    "        if event_signature_hash == log_signature:\n",
    "            print(\"Fue un swap\")\n",
    "        else:\n",
    "            print(\"No fue un swap\")"
   ]
  },
  {
   "cell_type": "code",
   "execution_count": 50,
   "metadata": {},
   "outputs": [],
   "source": [
    "v2_router_address = \"0x1b02dA8Cb0d097eB8D57A175b88c7D8b47997506\"\n",
    "\n",
    "v2_router_abi = [{\"inputs\":[{\"internalType\":\"address\",\"name\":\"_factory\",\"type\":\"address\"},{\"internalType\":\"address\",\"name\":\"_WETH\",\"type\":\"address\"}],\"stateMutability\":\"nonpayable\",\"type\":\"constructor\"},{\"inputs\":[],\"name\":\"WETH\",\"outputs\":[{\"internalType\":\"address\",\"name\":\"\",\"type\":\"address\"}],\"stateMutability\":\"view\",\"type\":\"function\"},{\"inputs\":[{\"internalType\":\"address\",\"name\":\"tokenA\",\"type\":\"address\"},{\"internalType\":\"address\",\"name\":\"tokenB\",\"type\":\"address\"},{\"internalType\":\"uint256\",\"name\":\"amountADesired\",\"type\":\"uint256\"},{\"internalType\":\"uint256\",\"name\":\"amountBDesired\",\"type\":\"uint256\"},{\"internalType\":\"uint256\",\"name\":\"amountAMin\",\"type\":\"uint256\"},{\"internalType\":\"uint256\",\"name\":\"amountBMin\",\"type\":\"uint256\"},{\"internalType\":\"address\",\"name\":\"to\",\"type\":\"address\"},{\"internalType\":\"uint256\",\"name\":\"deadline\",\"type\":\"uint256\"}],\"name\":\"addLiquidity\",\"outputs\":[{\"internalType\":\"uint256\",\"name\":\"amountA\",\"type\":\"uint256\"},{\"internalType\":\"uint256\",\"name\":\"amountB\",\"type\":\"uint256\"},{\"internalType\":\"uint256\",\"name\":\"liquidity\",\"type\":\"uint256\"}],\"stateMutability\":\"nonpayable\",\"type\":\"function\"},{\"inputs\":[{\"internalType\":\"address\",\"name\":\"token\",\"type\":\"address\"},{\"internalType\":\"uint256\",\"name\":\"amountTokenDesired\",\"type\":\"uint256\"},{\"internalType\":\"uint256\",\"name\":\"amountTokenMin\",\"type\":\"uint256\"},{\"internalType\":\"uint256\",\"name\":\"amountETHMin\",\"type\":\"uint256\"},{\"internalType\":\"address\",\"name\":\"to\",\"type\":\"address\"},{\"internalType\":\"uint256\",\"name\":\"deadline\",\"type\":\"uint256\"}],\"name\":\"addLiquidityETH\",\"outputs\":[{\"internalType\":\"uint256\",\"name\":\"amountToken\",\"type\":\"uint256\"},{\"internalType\":\"uint256\",\"name\":\"amountETH\",\"type\":\"uint256\"},{\"internalType\":\"uint256\",\"name\":\"liquidity\",\"type\":\"uint256\"}],\"stateMutability\":\"payable\",\"type\":\"function\"},{\"inputs\":[],\"name\":\"factory\",\"outputs\":[{\"internalType\":\"address\",\"name\":\"\",\"type\":\"address\"}],\"stateMutability\":\"view\",\"type\":\"function\"},{\"inputs\":[{\"internalType\":\"uint256\",\"name\":\"amountOut\",\"type\":\"uint256\"},{\"internalType\":\"uint256\",\"name\":\"reserveIn\",\"type\":\"uint256\"},{\"internalType\":\"uint256\",\"name\":\"reserveOut\",\"type\":\"uint256\"}],\"name\":\"getAmountIn\",\"outputs\":[{\"internalType\":\"uint256\",\"name\":\"amountIn\",\"type\":\"uint256\"}],\"stateMutability\":\"pure\",\"type\":\"function\"},{\"inputs\":[{\"internalType\":\"uint256\",\"name\":\"amountIn\",\"type\":\"uint256\"},{\"internalType\":\"uint256\",\"name\":\"reserveIn\",\"type\":\"uint256\"},{\"internalType\":\"uint256\",\"name\":\"reserveOut\",\"type\":\"uint256\"}],\"name\":\"getAmountOut\",\"outputs\":[{\"internalType\":\"uint256\",\"name\":\"amountOut\",\"type\":\"uint256\"}],\"stateMutability\":\"pure\",\"type\":\"function\"},{\"inputs\":[{\"internalType\":\"uint256\",\"name\":\"amountOut\",\"type\":\"uint256\"},{\"internalType\":\"address[]\",\"name\":\"path\",\"type\":\"address[]\"}],\"name\":\"getAmountsIn\",\"outputs\":[{\"internalType\":\"uint256[]\",\"name\":\"amounts\",\"type\":\"uint256[]\"}],\"stateMutability\":\"view\",\"type\":\"function\"},{\"inputs\":[{\"internalType\":\"uint256\",\"name\":\"amountIn\",\"type\":\"uint256\"},{\"internalType\":\"address[]\",\"name\":\"path\",\"type\":\"address[]\"}],\"name\":\"getAmountsOut\",\"outputs\":[{\"internalType\":\"uint256[]\",\"name\":\"amounts\",\"type\":\"uint256[]\"}],\"stateMutability\":\"view\",\"type\":\"function\"},{\"inputs\":[{\"internalType\":\"uint256\",\"name\":\"amountA\",\"type\":\"uint256\"},{\"internalType\":\"uint256\",\"name\":\"reserveA\",\"type\":\"uint256\"},{\"internalType\":\"uint256\",\"name\":\"reserveB\",\"type\":\"uint256\"}],\"name\":\"quote\",\"outputs\":[{\"internalType\":\"uint256\",\"name\":\"amountB\",\"type\":\"uint256\"}],\"stateMutability\":\"pure\",\"type\":\"function\"},{\"inputs\":[{\"internalType\":\"address\",\"name\":\"tokenA\",\"type\":\"address\"},{\"internalType\":\"address\",\"name\":\"tokenB\",\"type\":\"address\"},{\"internalType\":\"uint256\",\"name\":\"liquidity\",\"type\":\"uint256\"},{\"internalType\":\"uint256\",\"name\":\"amountAMin\",\"type\":\"uint256\"},{\"internalType\":\"uint256\",\"name\":\"amountBMin\",\"type\":\"uint256\"},{\"internalType\":\"address\",\"name\":\"to\",\"type\":\"address\"},{\"internalType\":\"uint256\",\"name\":\"deadline\",\"type\":\"uint256\"}],\"name\":\"removeLiquidity\",\"outputs\":[{\"internalType\":\"uint256\",\"name\":\"amountA\",\"type\":\"uint256\"},{\"internalType\":\"uint256\",\"name\":\"amountB\",\"type\":\"uint256\"}],\"stateMutability\":\"nonpayable\",\"type\":\"function\"},{\"inputs\":[{\"internalType\":\"address\",\"name\":\"token\",\"type\":\"address\"},{\"internalType\":\"uint256\",\"name\":\"liquidity\",\"type\":\"uint256\"},{\"internalType\":\"uint256\",\"name\":\"amountTokenMin\",\"type\":\"uint256\"},{\"internalType\":\"uint256\",\"name\":\"amountETHMin\",\"type\":\"uint256\"},{\"internalType\":\"address\",\"name\":\"to\",\"type\":\"address\"},{\"internalType\":\"uint256\",\"name\":\"deadline\",\"type\":\"uint256\"}],\"name\":\"removeLiquidityETH\",\"outputs\":[{\"internalType\":\"uint256\",\"name\":\"amountToken\",\"type\":\"uint256\"},{\"internalType\":\"uint256\",\"name\":\"amountETH\",\"type\":\"uint256\"}],\"stateMutability\":\"nonpayable\",\"type\":\"function\"},{\"inputs\":[{\"internalType\":\"address\",\"name\":\"token\",\"type\":\"address\"},{\"internalType\":\"uint256\",\"name\":\"liquidity\",\"type\":\"uint256\"},{\"internalType\":\"uint256\",\"name\":\"amountTokenMin\",\"type\":\"uint256\"},{\"internalType\":\"uint256\",\"name\":\"amountETHMin\",\"type\":\"uint256\"},{\"internalType\":\"address\",\"name\":\"to\",\"type\":\"address\"},{\"internalType\":\"uint256\",\"name\":\"deadline\",\"type\":\"uint256\"}],\"name\":\"removeLiquidityETHSupportingFeeOnTransferTokens\",\"outputs\":[{\"internalType\":\"uint256\",\"name\":\"amountETH\",\"type\":\"uint256\"}],\"stateMutability\":\"nonpayable\",\"type\":\"function\"},{\"inputs\":[{\"internalType\":\"address\",\"name\":\"token\",\"type\":\"address\"},{\"internalType\":\"uint256\",\"name\":\"liquidity\",\"type\":\"uint256\"},{\"internalType\":\"uint256\",\"name\":\"amountTokenMin\",\"type\":\"uint256\"},{\"internalType\":\"uint256\",\"name\":\"amountETHMin\",\"type\":\"uint256\"},{\"internalType\":\"address\",\"name\":\"to\",\"type\":\"address\"},{\"internalType\":\"uint256\",\"name\":\"deadline\",\"type\":\"uint256\"},{\"internalType\":\"bool\",\"name\":\"approveMax\",\"type\":\"bool\"},{\"internalType\":\"uint8\",\"name\":\"v\",\"type\":\"uint8\"},{\"internalType\":\"bytes32\",\"name\":\"r\",\"type\":\"bytes32\"},{\"internalType\":\"bytes32\",\"name\":\"s\",\"type\":\"bytes32\"}],\"name\":\"removeLiquidityETHWithPermit\",\"outputs\":[{\"internalType\":\"uint256\",\"name\":\"amountToken\",\"type\":\"uint256\"},{\"internalType\":\"uint256\",\"name\":\"amountETH\",\"type\":\"uint256\"}],\"stateMutability\":\"nonpayable\",\"type\":\"function\"},{\"inputs\":[{\"internalType\":\"address\",\"name\":\"token\",\"type\":\"address\"},{\"internalType\":\"uint256\",\"name\":\"liquidity\",\"type\":\"uint256\"},{\"internalType\":\"uint256\",\"name\":\"amountTokenMin\",\"type\":\"uint256\"},{\"internalType\":\"uint256\",\"name\":\"amountETHMin\",\"type\":\"uint256\"},{\"internalType\":\"address\",\"name\":\"to\",\"type\":\"address\"},{\"internalType\":\"uint256\",\"name\":\"deadline\",\"type\":\"uint256\"},{\"internalType\":\"bool\",\"name\":\"approveMax\",\"type\":\"bool\"},{\"internalType\":\"uint8\",\"name\":\"v\",\"type\":\"uint8\"},{\"internalType\":\"bytes32\",\"name\":\"r\",\"type\":\"bytes32\"},{\"internalType\":\"bytes32\",\"name\":\"s\",\"type\":\"bytes32\"}],\"name\":\"removeLiquidityETHWithPermitSupportingFeeOnTransferTokens\",\"outputs\":[{\"internalType\":\"uint256\",\"name\":\"amountETH\",\"type\":\"uint256\"}],\"stateMutability\":\"nonpayable\",\"type\":\"function\"},{\"inputs\":[{\"internalType\":\"address\",\"name\":\"tokenA\",\"type\":\"address\"},{\"internalType\":\"address\",\"name\":\"tokenB\",\"type\":\"address\"},{\"internalType\":\"uint256\",\"name\":\"liquidity\",\"type\":\"uint256\"},{\"internalType\":\"uint256\",\"name\":\"amountAMin\",\"type\":\"uint256\"},{\"internalType\":\"uint256\",\"name\":\"amountBMin\",\"type\":\"uint256\"},{\"internalType\":\"address\",\"name\":\"to\",\"type\":\"address\"},{\"internalType\":\"uint256\",\"name\":\"deadline\",\"type\":\"uint256\"},{\"internalType\":\"bool\",\"name\":\"approveMax\",\"type\":\"bool\"},{\"internalType\":\"uint8\",\"name\":\"v\",\"type\":\"uint8\"},{\"internalType\":\"bytes32\",\"name\":\"r\",\"type\":\"bytes32\"},{\"internalType\":\"bytes32\",\"name\":\"s\",\"type\":\"bytes32\"}],\"name\":\"removeLiquidityWithPermit\",\"outputs\":[{\"internalType\":\"uint256\",\"name\":\"amountA\",\"type\":\"uint256\"},{\"internalType\":\"uint256\",\"name\":\"amountB\",\"type\":\"uint256\"}],\"stateMutability\":\"nonpayable\",\"type\":\"function\"},{\"inputs\":[{\"internalType\":\"uint256\",\"name\":\"amountOut\",\"type\":\"uint256\"},{\"internalType\":\"address[]\",\"name\":\"path\",\"type\":\"address[]\"},{\"internalType\":\"address\",\"name\":\"to\",\"type\":\"address\"},{\"internalType\":\"uint256\",\"name\":\"deadline\",\"type\":\"uint256\"}],\"name\":\"swapETHForExactTokens\",\"outputs\":[{\"internalType\":\"uint256[]\",\"name\":\"amounts\",\"type\":\"uint256[]\"}],\"stateMutability\":\"payable\",\"type\":\"function\"},{\"inputs\":[{\"internalType\":\"uint256\",\"name\":\"amountOutMin\",\"type\":\"uint256\"},{\"internalType\":\"address[]\",\"name\":\"path\",\"type\":\"address[]\"},{\"internalType\":\"address\",\"name\":\"to\",\"type\":\"address\"},{\"internalType\":\"uint256\",\"name\":\"deadline\",\"type\":\"uint256\"}],\"name\":\"swapExactETHForTokens\",\"outputs\":[{\"internalType\":\"uint256[]\",\"name\":\"amounts\",\"type\":\"uint256[]\"}],\"stateMutability\":\"payable\",\"type\":\"function\"},{\"inputs\":[{\"internalType\":\"uint256\",\"name\":\"amountOutMin\",\"type\":\"uint256\"},{\"internalType\":\"address[]\",\"name\":\"path\",\"type\":\"address[]\"},{\"internalType\":\"address\",\"name\":\"to\",\"type\":\"address\"},{\"internalType\":\"uint256\",\"name\":\"deadline\",\"type\":\"uint256\"}],\"name\":\"swapExactETHForTokensSupportingFeeOnTransferTokens\",\"outputs\":[],\"stateMutability\":\"payable\",\"type\":\"function\"},{\"inputs\":[{\"internalType\":\"uint256\",\"name\":\"amountIn\",\"type\":\"uint256\"},{\"internalType\":\"uint256\",\"name\":\"amountOutMin\",\"type\":\"uint256\"},{\"internalType\":\"address[]\",\"name\":\"path\",\"type\":\"address[]\"},{\"internalType\":\"address\",\"name\":\"to\",\"type\":\"address\"},{\"internalType\":\"uint256\",\"name\":\"deadline\",\"type\":\"uint256\"}],\"name\":\"swapExactTokensForETH\",\"outputs\":[{\"internalType\":\"uint256[]\",\"name\":\"amounts\",\"type\":\"uint256[]\"}],\"stateMutability\":\"nonpayable\",\"type\":\"function\"},{\"inputs\":[{\"internalType\":\"uint256\",\"name\":\"amountIn\",\"type\":\"uint256\"},{\"internalType\":\"uint256\",\"name\":\"amountOutMin\",\"type\":\"uint256\"},{\"internalType\":\"address[]\",\"name\":\"path\",\"type\":\"address[]\"},{\"internalType\":\"address\",\"name\":\"to\",\"type\":\"address\"},{\"internalType\":\"uint256\",\"name\":\"deadline\",\"type\":\"uint256\"}],\"name\":\"swapExactTokensForETHSupportingFeeOnTransferTokens\",\"outputs\":[],\"stateMutability\":\"nonpayable\",\"type\":\"function\"},{\"inputs\":[{\"internalType\":\"uint256\",\"name\":\"amountIn\",\"type\":\"uint256\"},{\"internalType\":\"uint256\",\"name\":\"amountOutMin\",\"type\":\"uint256\"},{\"internalType\":\"address[]\",\"name\":\"path\",\"type\":\"address[]\"},{\"internalType\":\"address\",\"name\":\"to\",\"type\":\"address\"},{\"internalType\":\"uint256\",\"name\":\"deadline\",\"type\":\"uint256\"}],\"name\":\"swapExactTokensForTokens\",\"outputs\":[{\"internalType\":\"uint256[]\",\"name\":\"amounts\",\"type\":\"uint256[]\"}],\"stateMutability\":\"nonpayable\",\"type\":\"function\"},{\"inputs\":[{\"internalType\":\"uint256\",\"name\":\"amountIn\",\"type\":\"uint256\"},{\"internalType\":\"uint256\",\"name\":\"amountOutMin\",\"type\":\"uint256\"},{\"internalType\":\"address[]\",\"name\":\"path\",\"type\":\"address[]\"},{\"internalType\":\"address\",\"name\":\"to\",\"type\":\"address\"},{\"internalType\":\"uint256\",\"name\":\"deadline\",\"type\":\"uint256\"}],\"name\":\"swapExactTokensForTokensSupportingFeeOnTransferTokens\",\"outputs\":[],\"stateMutability\":\"nonpayable\",\"type\":\"function\"},{\"inputs\":[{\"internalType\":\"uint256\",\"name\":\"amountOut\",\"type\":\"uint256\"},{\"internalType\":\"uint256\",\"name\":\"amountInMax\",\"type\":\"uint256\"},{\"internalType\":\"address[]\",\"name\":\"path\",\"type\":\"address[]\"},{\"internalType\":\"address\",\"name\":\"to\",\"type\":\"address\"},{\"internalType\":\"uint256\",\"name\":\"deadline\",\"type\":\"uint256\"}],\"name\":\"swapTokensForExactETH\",\"outputs\":[{\"internalType\":\"uint256[]\",\"name\":\"amounts\",\"type\":\"uint256[]\"}],\"stateMutability\":\"nonpayable\",\"type\":\"function\"},{\"inputs\":[{\"internalType\":\"uint256\",\"name\":\"amountOut\",\"type\":\"uint256\"},{\"internalType\":\"uint256\",\"name\":\"amountInMax\",\"type\":\"uint256\"},{\"internalType\":\"address[]\",\"name\":\"path\",\"type\":\"address[]\"},{\"internalType\":\"address\",\"name\":\"to\",\"type\":\"address\"},{\"internalType\":\"uint256\",\"name\":\"deadline\",\"type\":\"uint256\"}],\"name\":\"swapTokensForExactTokens\",\"outputs\":[{\"internalType\":\"uint256[]\",\"name\":\"amounts\",\"type\":\"uint256[]\"}],\"stateMutability\":\"nonpayable\",\"type\":\"function\"},{\"stateMutability\":\"payable\",\"type\":\"receive\"}]\n",
    "\n",
    "\n",
    "v2_router_contract = w3.eth.contract(address=v2_router_address, abi=v2_router_abi)\n"
   ]
  },
  {
   "cell_type": "code",
   "execution_count": 52,
   "metadata": {},
   "outputs": [
    {
     "name": "stdout",
     "output_type": "stream",
     "text": [
      "0.05\n"
     ]
    }
   ],
   "source": [
    "amount_in = w3.toWei(\"1\", \"ether\")\n",
    "reserve_a = w3.toWei(\"20\", \"ether\")\n",
    "reserve_b = w3.toWei(\"1\", \"ether\")\n",
    "\n",
    "amount_out = v2_router_contract.functions.quote(amount_in, reserve_a, reserve_b).call()\n",
    "print(w3.fromWei(amount_out,'ether'))"
   ]
  },
  {
   "cell_type": "code",
   "execution_count": 56,
   "metadata": {},
   "outputs": [],
   "source": [
    "example_pool = \"0x6eDa73f3b08f96A3d1eAc6a892D9Cc96b87F92bd\"\n",
    "v2_pair_abi = [{\"inputs\":[],\"stateMutability\":\"nonpayable\",\"type\":\"constructor\"},{\"anonymous\":False,\"inputs\":[{\"indexed\":True,\"internalType\":\"address\",\"name\":\"owner\",\"type\":\"address\"},{\"indexed\":True,\"internalType\":\"address\",\"name\":\"spender\",\"type\":\"address\"},{\"indexed\":False,\"internalType\":\"uint256\",\"name\":\"value\",\"type\":\"uint256\"}],\"name\":\"Approval\",\"type\":\"event\"},{\"anonymous\":False,\"inputs\":[{\"indexed\":True,\"internalType\":\"address\",\"name\":\"sender\",\"type\":\"address\"},{\"indexed\":False,\"internalType\":\"uint256\",\"name\":\"amount0\",\"type\":\"uint256\"},{\"indexed\":False,\"internalType\":\"uint256\",\"name\":\"amount1\",\"type\":\"uint256\"},{\"indexed\":True,\"internalType\":\"address\",\"name\":\"to\",\"type\":\"address\"}],\"name\":\"Burn\",\"type\":\"event\"},{\"anonymous\":False,\"inputs\":[{\"indexed\":True,\"internalType\":\"address\",\"name\":\"sender\",\"type\":\"address\"},{\"indexed\":False,\"internalType\":\"uint256\",\"name\":\"amount0\",\"type\":\"uint256\"},{\"indexed\":False,\"internalType\":\"uint256\",\"name\":\"amount1\",\"type\":\"uint256\"}],\"name\":\"Mint\",\"type\":\"event\"},{\"anonymous\":False,\"inputs\":[{\"indexed\":True,\"internalType\":\"address\",\"name\":\"sender\",\"type\":\"address\"},{\"indexed\":False,\"internalType\":\"uint256\",\"name\":\"amount0In\",\"type\":\"uint256\"},{\"indexed\":False,\"internalType\":\"uint256\",\"name\":\"amount1In\",\"type\":\"uint256\"},{\"indexed\":False,\"internalType\":\"uint256\",\"name\":\"amount0Out\",\"type\":\"uint256\"},{\"indexed\":False,\"internalType\":\"uint256\",\"name\":\"amount1Out\",\"type\":\"uint256\"},{\"indexed\":True,\"internalType\":\"address\",\"name\":\"to\",\"type\":\"address\"}],\"name\":\"Swap\",\"type\":\"event\"},{\"anonymous\":False,\"inputs\":[{\"indexed\":False,\"internalType\":\"uint112\",\"name\":\"reserve0\",\"type\":\"uint112\"},{\"indexed\":False,\"internalType\":\"uint112\",\"name\":\"reserve1\",\"type\":\"uint112\"}],\"name\":\"Sync\",\"type\":\"event\"},{\"anonymous\":False,\"inputs\":[{\"indexed\":True,\"internalType\":\"address\",\"name\":\"from\",\"type\":\"address\"},{\"indexed\":True,\"internalType\":\"address\",\"name\":\"to\",\"type\":\"address\"},{\"indexed\":False,\"internalType\":\"uint256\",\"name\":\"value\",\"type\":\"uint256\"}],\"name\":\"Transfer\",\"type\":\"event\"},{\"inputs\":[],\"name\":\"DOMAIN_SEPARATOR\",\"outputs\":[{\"internalType\":\"bytes32\",\"name\":\"\",\"type\":\"bytes32\"}],\"stateMutability\":\"view\",\"type\":\"function\"},{\"inputs\":[],\"name\":\"MINIMUM_LIQUIDITY\",\"outputs\":[{\"internalType\":\"uint256\",\"name\":\"\",\"type\":\"uint256\"}],\"stateMutability\":\"view\",\"type\":\"function\"},{\"inputs\":[],\"name\":\"PERMIT_TYPEHASH\",\"outputs\":[{\"internalType\":\"bytes32\",\"name\":\"\",\"type\":\"bytes32\"}],\"stateMutability\":\"view\",\"type\":\"function\"},{\"inputs\":[{\"internalType\":\"address\",\"name\":\"\",\"type\":\"address\"},{\"internalType\":\"address\",\"name\":\"\",\"type\":\"address\"}],\"name\":\"allowance\",\"outputs\":[{\"internalType\":\"uint256\",\"name\":\"\",\"type\":\"uint256\"}],\"stateMutability\":\"view\",\"type\":\"function\"},{\"inputs\":[{\"internalType\":\"address\",\"name\":\"spender\",\"type\":\"address\"},{\"internalType\":\"uint256\",\"name\":\"value\",\"type\":\"uint256\"}],\"name\":\"approve\",\"outputs\":[{\"internalType\":\"bool\",\"name\":\"\",\"type\":\"bool\"}],\"stateMutability\":\"nonpayable\",\"type\":\"function\"},{\"inputs\":[{\"internalType\":\"address\",\"name\":\"\",\"type\":\"address\"}],\"name\":\"balanceOf\",\"outputs\":[{\"internalType\":\"uint256\",\"name\":\"\",\"type\":\"uint256\"}],\"stateMutability\":\"view\",\"type\":\"function\"},{\"inputs\":[{\"internalType\":\"address\",\"name\":\"to\",\"type\":\"address\"}],\"name\":\"burn\",\"outputs\":[{\"internalType\":\"uint256\",\"name\":\"amount0\",\"type\":\"uint256\"},{\"internalType\":\"uint256\",\"name\":\"amount1\",\"type\":\"uint256\"}],\"stateMutability\":\"nonpayable\",\"type\":\"function\"},{\"inputs\":[],\"name\":\"decimals\",\"outputs\":[{\"internalType\":\"uint8\",\"name\":\"\",\"type\":\"uint8\"}],\"stateMutability\":\"view\",\"type\":\"function\"},{\"inputs\":[],\"name\":\"factory\",\"outputs\":[{\"internalType\":\"address\",\"name\":\"\",\"type\":\"address\"}],\"stateMutability\":\"view\",\"type\":\"function\"},{\"inputs\":[],\"name\":\"getReserves\",\"outputs\":[{\"internalType\":\"uint112\",\"name\":\"_reserve0\",\"type\":\"uint112\"},{\"internalType\":\"uint112\",\"name\":\"_reserve1\",\"type\":\"uint112\"},{\"internalType\":\"uint32\",\"name\":\"_blockTimestampLast\",\"type\":\"uint32\"}],\"stateMutability\":\"view\",\"type\":\"function\"},{\"inputs\":[{\"internalType\":\"address\",\"name\":\"_token0\",\"type\":\"address\"},{\"internalType\":\"address\",\"name\":\"_token1\",\"type\":\"address\"}],\"name\":\"initialize\",\"outputs\":[],\"stateMutability\":\"nonpayable\",\"type\":\"function\"},{\"inputs\":[],\"name\":\"kLast\",\"outputs\":[{\"internalType\":\"uint256\",\"name\":\"\",\"type\":\"uint256\"}],\"stateMutability\":\"view\",\"type\":\"function\"},{\"inputs\":[{\"internalType\":\"address\",\"name\":\"to\",\"type\":\"address\"}],\"name\":\"mint\",\"outputs\":[{\"internalType\":\"uint256\",\"name\":\"liquidity\",\"type\":\"uint256\"}],\"stateMutability\":\"nonpayable\",\"type\":\"function\"},{\"inputs\":[],\"name\":\"name\",\"outputs\":[{\"internalType\":\"string\",\"name\":\"\",\"type\":\"string\"}],\"stateMutability\":\"view\",\"type\":\"function\"},{\"inputs\":[{\"internalType\":\"address\",\"name\":\"\",\"type\":\"address\"}],\"name\":\"nonces\",\"outputs\":[{\"internalType\":\"uint256\",\"name\":\"\",\"type\":\"uint256\"}],\"stateMutability\":\"view\",\"type\":\"function\"},{\"inputs\":[{\"internalType\":\"address\",\"name\":\"owner\",\"type\":\"address\"},{\"internalType\":\"address\",\"name\":\"spender\",\"type\":\"address\"},{\"internalType\":\"uint256\",\"name\":\"value\",\"type\":\"uint256\"},{\"internalType\":\"uint256\",\"name\":\"deadline\",\"type\":\"uint256\"},{\"internalType\":\"uint8\",\"name\":\"v\",\"type\":\"uint8\"},{\"internalType\":\"bytes32\",\"name\":\"r\",\"type\":\"bytes32\"},{\"internalType\":\"bytes32\",\"name\":\"s\",\"type\":\"bytes32\"}],\"name\":\"permit\",\"outputs\":[],\"stateMutability\":\"nonpayable\",\"type\":\"function\"},{\"inputs\":[],\"name\":\"price0CumulativeLast\",\"outputs\":[{\"internalType\":\"uint256\",\"name\":\"\",\"type\":\"uint256\"}],\"stateMutability\":\"view\",\"type\":\"function\"},{\"inputs\":[],\"name\":\"price1CumulativeLast\",\"outputs\":[{\"internalType\":\"uint256\",\"name\":\"\",\"type\":\"uint256\"}],\"stateMutability\":\"view\",\"type\":\"function\"},{\"inputs\":[{\"internalType\":\"address\",\"name\":\"to\",\"type\":\"address\"}],\"name\":\"skim\",\"outputs\":[],\"stateMutability\":\"nonpayable\",\"type\":\"function\"},{\"inputs\":[{\"internalType\":\"uint256\",\"name\":\"amount0Out\",\"type\":\"uint256\"},{\"internalType\":\"uint256\",\"name\":\"amount1Out\",\"type\":\"uint256\"},{\"internalType\":\"address\",\"name\":\"to\",\"type\":\"address\"},{\"internalType\":\"bytes\",\"name\":\"data\",\"type\":\"bytes\"}],\"name\":\"swap\",\"outputs\":[],\"stateMutability\":\"nonpayable\",\"type\":\"function\"},{\"inputs\":[],\"name\":\"symbol\",\"outputs\":[{\"internalType\":\"string\",\"name\":\"\",\"type\":\"string\"}],\"stateMutability\":\"view\",\"type\":\"function\"},{\"inputs\":[],\"name\":\"sync\",\"outputs\":[],\"stateMutability\":\"nonpayable\",\"type\":\"function\"},{\"inputs\":[],\"name\":\"token0\",\"outputs\":[{\"internalType\":\"address\",\"name\":\"\",\"type\":\"address\"}],\"stateMutability\":\"view\",\"type\":\"function\"},{\"inputs\":[],\"name\":\"token1\",\"outputs\":[{\"internalType\":\"address\",\"name\":\"\",\"type\":\"address\"}],\"stateMutability\":\"view\",\"type\":\"function\"},{\"inputs\":[],\"name\":\"totalSupply\",\"outputs\":[{\"internalType\":\"uint256\",\"name\":\"\",\"type\":\"uint256\"}],\"stateMutability\":\"view\",\"type\":\"function\"},{\"inputs\":[{\"internalType\":\"address\",\"name\":\"to\",\"type\":\"address\"},{\"internalType\":\"uint256\",\"name\":\"value\",\"type\":\"uint256\"}],\"name\":\"transfer\",\"outputs\":[{\"internalType\":\"bool\",\"name\":\"\",\"type\":\"bool\"}],\"stateMutability\":\"nonpayable\",\"type\":\"function\"},{\"inputs\":[{\"internalType\":\"address\",\"name\":\"from\",\"type\":\"address\"},{\"internalType\":\"address\",\"name\":\"to\",\"type\":\"address\"},{\"internalType\":\"uint256\",\"name\":\"value\",\"type\":\"uint256\"}],\"name\":\"transferFrom\",\"outputs\":[{\"internalType\":\"bool\",\"name\":\"\",\"type\":\"bool\"}],\"stateMutability\":\"nonpayable\",\"type\":\"function\"}]\n",
    "\n",
    "v2_pair_contract = w3.eth.contract(address=example_pool, abi = v2_pair_abi)"
   ]
  },
  {
   "cell_type": "code",
   "execution_count": 58,
   "metadata": {},
   "outputs": [
    {
     "data": {
      "text/plain": [
       "(AttributeDict({'args': AttributeDict({'sender': '0x1b02dA8Cb0d097eB8D57A175b88c7D8b47997506',\n",
       "   'to': '0x00749ec724946F87138E99961066c9f9a85e1901',\n",
       "   'amount0In': 0,\n",
       "   'amount1In': 23000000000000000000,\n",
       "   'amount0Out': 15851382014759451109,\n",
       "   'amount1Out': 0}),\n",
       "  'event': 'Swap',\n",
       "  'logIndex': 4,\n",
       "  'transactionIndex': 0,\n",
       "  'transactionHash': HexBytes('0x8ed699d9da6e3be1844d06bd5ca9b3a3e8cd876de0251d766926dd7f9d5c9594'),\n",
       "  'address': '0x6eDa73f3b08f96A3d1eAc6a892D9Cc96b87F92bd',\n",
       "  'blockHash': HexBytes('0x8cae3ef40da342f0bd376ba54b7e70f640c18465771a0a8a06e53cedabadfe08'),\n",
       "  'blockNumber': 41715176}),)"
      ]
     },
     "execution_count": 58,
     "metadata": {},
     "output_type": "execute_result"
    }
   ],
   "source": [
    "block_num = 41715200\n",
    "\n",
    "v2_pair_contract.events.Swap().getLogs(\n",
    "    fromBlock=block_num - 100,\n",
    "    toBlock = block_num\n",
    ")"
   ]
  },
  {
   "cell_type": "code",
   "execution_count": null,
   "metadata": {},
   "outputs": [],
   "source": []
  }
 ],
 "metadata": {
  "kernelspec": {
   "display_name": "Python 3",
   "language": "python",
   "name": "python3"
  },
  "language_info": {
   "codemirror_mode": {
    "name": "ipython",
    "version": 3
   },
   "file_extension": ".py",
   "mimetype": "text/x-python",
   "name": "python",
   "nbconvert_exporter": "python",
   "pygments_lexer": "ipython3",
   "version": "3.10.12"
  }
 },
 "nbformat": 4,
 "nbformat_minor": 2
}
