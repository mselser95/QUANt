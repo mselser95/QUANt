{
 "cells": [
  {
   "cell_type": "code",
   "execution_count": 7,
   "metadata": {},
   "outputs": [],
   "source": [
    "import ccxt\n",
    "\n",
    "exchange_id = 'binanceus'\n",
    "exchange_class = getattr(ccxt, exchange_id)\n",
    "exchange = exchange_class()"
   ]
  },
  {
   "cell_type": "code",
   "execution_count": 9,
   "metadata": {
    "scrolled": false
   },
   "outputs": [
    {
     "name": "stdout",
     "output_type": "stream",
     "text": [
      "BTC: Short ma: 34922.33, Long ma: 34922.33\n",
      "BTC: Short ma: 34915.00, Long ma: 34918.67\n"
     ]
    },
    {
     "ename": "KeyboardInterrupt",
     "evalue": "",
     "output_type": "error",
     "traceback": [
      "\u001b[0;31m---------------------------------------------------------------------------\u001b[0m",
      "\u001b[0;31mKeyboardInterrupt\u001b[0m                         Traceback (most recent call last)",
      "\u001b[1;32m/home/mselser/dev/ucema/clase_2/CCTX Tests.ipynb Cell 2\u001b[0m line \u001b[0;36m4\n\u001b[1;32m     <a href='vscode-notebook-cell:/home/mselser/dev/ucema/clase_2/CCTX%20Tests.ipynb#X10sZmlsZQ%3D%3D?line=37'>38</a>\u001b[0m         \u001b[39mprint\u001b[39m(\u001b[39m\"\u001b[39m\u001b[39mtrade de venta\u001b[39m\u001b[39m\"\u001b[39m)\n\u001b[1;32m     <a href='vscode-notebook-cell:/home/mselser/dev/ucema/clase_2/CCTX%20Tests.ipynb#X10sZmlsZQ%3D%3D?line=38'>39</a>\u001b[0m         long\u001b[39m=\u001b[39m\u001b[39mFalse\u001b[39;00m\n\u001b[0;32m---> <a href='vscode-notebook-cell:/home/mselser/dev/ucema/clase_2/CCTX%20Tests.ipynb#X10sZmlsZQ%3D%3D?line=40'>41</a>\u001b[0m time\u001b[39m.\u001b[39;49msleep(\u001b[39m60.0\u001b[39;49m \u001b[39m-\u001b[39;49m ((time\u001b[39m.\u001b[39;49mtime() \u001b[39m-\u001b[39;49m starttime) \u001b[39m%\u001b[39;49m \u001b[39m60.0\u001b[39;49m)) \n",
      "\u001b[0;31mKeyboardInterrupt\u001b[0m: "
     ]
    }
   ],
   "source": [
    "# Python\n",
    "symbol = 'BTC/USDT'\n",
    "\n",
    "window_short = 1\n",
    "window_long = 2\n",
    "\n",
    "candles = []\n",
    "long = False\n",
    "\n",
    "import time\n",
    "\n",
    "while True:\n",
    "    if exchange.has['fetchOHLCV']:\n",
    "        starttime = time.time()\n",
    "\n",
    "        received = exchange.fetch_ohlcv(symbol, '1m',params={\n",
    "                'limit':1})[0]\n",
    "\n",
    "        # Me guardo la ultima vela\n",
    "        candles.append(received[4]) # Me quedo con el precio de cierre\n",
    "\n",
    "        # Calculo los MA\n",
    "        short_ma = sum(candles[-window_short:])/len(candles[-window_short:])\n",
    "        long_ma = sum(candles[-window_long:])/len(candles[-window_long:])\n",
    "\n",
    "        print(f\"{symbol.split('/')[0]}: Short ma: {short_ma:.2f}, Long ma: {long_ma:.2f}\")\n",
    "        candles = candles[-window_long:]\n",
    "\n",
    "        # Y ahora tradeo\n",
    "        if not long: # esto significa que tengo usdt\n",
    "            if short_ma > long_ma:\n",
    "                # Compro\n",
    "                print(\"trade de compra\") \n",
    "                long = True\n",
    "        else: # esto significa que tengo crypto\n",
    "            if short_ma < long_ma:\n",
    "                # Vendo\n",
    "                print(\"trade de venta\")\n",
    "                long=False\n",
    "        \n",
    "        time.sleep(60.0 - ((time.time() - starttime) % 60.0)) "
   ]
  },
  {
   "cell_type": "code",
   "execution_count": null,
   "metadata": {},
   "outputs": [],
   "source": []
  }
 ],
 "metadata": {
  "kernelspec": {
   "display_name": "Python 3",
   "language": "python",
   "name": "python3"
  },
  "language_info": {
   "codemirror_mode": {
    "name": "ipython",
    "version": 3
   },
   "file_extension": ".py",
   "mimetype": "text/x-python",
   "name": "python",
   "nbconvert_exporter": "python",
   "pygments_lexer": "ipython3",
   "version": "3.9.13"
  }
 },
 "nbformat": 4,
 "nbformat_minor": 5
}
